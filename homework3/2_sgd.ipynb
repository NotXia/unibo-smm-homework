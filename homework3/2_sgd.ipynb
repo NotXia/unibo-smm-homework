{
 "cells": [
  {
   "cell_type": "markdown",
   "metadata": {},
   "source": [
    "# Optimization via Stochastic Gradient Descent"
   ]
  },
  {
   "cell_type": "code",
   "execution_count": 2,
   "metadata": {},
   "outputs": [],
   "source": [
    "import numpy as np\n",
    "import matplotlib.pyplot as plt\n",
    "import pandas as pd\n",
    "import math\n",
    "\n",
    "np.random.seed(42)"
   ]
  },
  {
   "cell_type": "code",
   "execution_count": 3,
   "metadata": {},
   "outputs": [],
   "source": [
    "def sgd(loss, grad_loss, w0, data, batch_size, n_epochs, lr):\n",
    "    X, y = data\n",
    "    data_size = X.shape[1]\n",
    "    curr_w = w0\n",
    "    history_w = [w0]\n",
    "    history_loss = [loss(w0, X, y)]\n",
    "    history_grad = [grad_loss(w0, X, y)]\n",
    "    history_err = [np.linalg.norm(history_grad[-1], 2)]\n",
    "\n",
    "    for _ in range(n_epochs):\n",
    "        idxs = np.arange(0, data_size)\n",
    "        np.random.shuffle(idxs)\n",
    "\n",
    "        for i in range(math.ceil(data_size / batch_size)):\n",
    "        # for i in range(data_size // batch_size):\n",
    "            batch_idxs = idxs[i*batch_size : (i+1)*batch_size]\n",
    "            batch_X = X[:, batch_idxs]\n",
    "            batch_y = y[batch_idxs]\n",
    "\n",
    "            curr_w = curr_w - lr*grad_loss(curr_w, batch_X, batch_y)\n",
    "\n",
    "        history_w.append(curr_w)\n",
    "        history_loss.append(loss(curr_w, X, y))\n",
    "        history_grad.append(grad_loss(curr_w, X, y))\n",
    "        history_err.append( np.linalg.norm(history_grad[-1], 2) )\n",
    "\n",
    "    return history_w, history_loss, history_grad, history_err"
   ]
  },
  {
   "cell_type": "code",
   "execution_count": 4,
   "metadata": {},
   "outputs": [],
   "source": [
    "def backtracking(loss, grad_loss, w, data):\n",
    "    \"\"\"\n",
    "    This function is a simple implementation of the backtracking algorithm for\n",
    "    the GD (Gradient Descent) method.\n",
    "    \n",
    "    f: function. The function that we want to optimize.\n",
    "    grad_f: function. The gradient of f(x).\n",
    "    x: ndarray. The actual iterate x_k.\n",
    "    \"\"\"\n",
    "    X, y = data\n",
    "    alpha = 1\n",
    "    c = 0.8\n",
    "    tau = 0.25\n",
    "    \n",
    "    while loss(w - alpha * grad_loss(w, X, y), X, y) > loss(w, X, y) - c * alpha * np.linalg.norm(grad_loss(w, X, y), 2) ** 2:\n",
    "        alpha = tau * alpha\n",
    "        \n",
    "        if alpha < 1e-3:\n",
    "            break\n",
    "    return alpha\n",
    "\n",
    "\n",
    "def gd(loss, grad_loss, w0, data, k_max, tol_loss, tol_w, alpha=None):\n",
    "    X, y = data\n",
    "    curr_w, prev_w = w0, np.inf\n",
    "    curr_k = 0\n",
    "    grad_x0, curr_grad = grad_loss(w0, X, y), grad_loss(curr_w, X, y)\n",
    "    history_w = [w0]\n",
    "    history_loss = [loss(w0, X, y)]\n",
    "    history_grad = [grad_x0]\n",
    "    history_err = [np.linalg.norm(grad_x0, 2)]\n",
    "    use_backtracking = alpha is None\n",
    "\n",
    "    while (curr_k < k_max and \n",
    "            not (np.linalg.norm(curr_grad, 2) < tol_loss*np.linalg.norm(grad_x0, 2)) and\n",
    "            not (np.linalg.norm(curr_w - prev_w, 2) < tol_w)):\n",
    "        if use_backtracking:\n",
    "            alpha = backtracking(loss, grad_loss, curr_w, data)\n",
    "        prev_w = curr_w\n",
    "        curr_w = curr_w - alpha*grad_loss(curr_w, X, y)\n",
    "\n",
    "        curr_grad = grad_loss(curr_w, X, y)\n",
    "        curr_k += 1\n",
    "        \n",
    "        history_w.append(curr_w)\n",
    "        history_loss.append(loss(curr_w, X, y))\n",
    "        history_grad.append(curr_grad)\n",
    "        history_err.append(np.linalg.norm(curr_grad, 2))\n",
    "\n",
    "    return history_w, curr_k, history_loss, history_grad, history_err"
   ]
  },
  {
   "cell_type": "code",
   "execution_count": 5,
   "metadata": {},
   "outputs": [],
   "source": [
    "def train_test_split(X, Y, train_size):\n",
    "    idxs = np.arange(0, X.shape[1])\n",
    "    np.random.shuffle(idxs)\n",
    "    X_train = X[:, idxs[:train_size]]\n",
    "    Y_train = Y[idxs[:train_size]]\n",
    "    X_test = X[:, idxs[train_size:]]\n",
    "    Y_test = Y[idxs[train_size:]]\n",
    "\n",
    "    return X_train, Y_train, X_test, Y_test\n",
    "\n",
    "\n",
    "def createDataset(X, Y, digits, classification_type=\"binary\", train_ratio=0.75):\n",
    "    select_mask = np.full(Y.shape, False)\n",
    "    for d in digits:\n",
    "        select_mask = select_mask | (Y == d)\n",
    "    \n",
    "    X = X[:, select_mask]\n",
    "    Y = Y[select_mask]\n",
    "\n",
    "    if classification_type == \"binary\":\n",
    "        Y[Y == digits[0]] = 0\n",
    "        Y[Y == digits[1]] = 1\n",
    "    elif classification_type == \"multi\":\n",
    "        n_classes = len(digits)\n",
    "        Y = np.array([ [0]*((digits.index(d))) + [1] + [0]*((n_classes - digits.index(d)-1)) for d in Y ])\n",
    "    else: raise Exception(\"Invalid type\")\n",
    "\n",
    "    return train_test_split(X, Y, int(train_ratio*X.shape[1]))"
   ]
  },
  {
   "cell_type": "code",
   "execution_count": 6,
   "metadata": {},
   "outputs": [
    {
     "name": "stdout",
     "output_type": "stream",
     "text": [
      "(785, 42000) (42000,)\n"
     ]
    }
   ],
   "source": [
    "def addColumn(A):\n",
    "    out = np.ones((A.shape[0]+1, A.shape[1]))\n",
    "    out[1:, :] = A\n",
    "    return out\n",
    "\n",
    "data = pd.read_csv(\"../homework2/data/data.csv\")\n",
    "data = data.to_numpy()\n",
    "\n",
    "full_X = addColumn(data[:, 1:].T)\n",
    "full_Y = data[:, 0].T\n",
    "print(full_X.shape, full_Y.shape)"
   ]
  },
  {
   "cell_type": "markdown",
   "metadata": {},
   "source": [
    "## Binary classification"
   ]
  },
  {
   "cell_type": "code",
   "execution_count": 7,
   "metadata": {},
   "outputs": [],
   "source": [
    "def sigmoid(x):\n",
    "    return 1 / (1 + np.exp(-x))\n",
    "\n",
    "def f(w, x):\n",
    "    return sigmoid(x.T @ w)\n",
    "\n",
    "\n",
    "def mse(fn, w, X, y):\n",
    "    N = X.shape[1]\n",
    "    return (1/(2*N)) * np.linalg.norm(fn(w, X) - y, 2)**2\n",
    "\n",
    "def mse_grad(fn, w, X, y):\n",
    "    N = X.shape[1]\n",
    "    fn_X = fn(w, X)\n",
    "    return (1/N) * ( X @ (fn_X * (1-fn_X) * (fn_X - y)) )\n",
    "\n",
    "\n",
    "def loss(w, X, Y):\n",
    "    return mse(f, w, X, Y)\n",
    "\n",
    "def grad_loss(w, X, Y):\n",
    "    return mse_grad(f, w, X, Y)"
   ]
  },
  {
   "cell_type": "code",
   "execution_count": 8,
   "metadata": {},
   "outputs": [],
   "source": [
    "def evaluate(w, X_test, Y_test, threshold=0.5):\n",
    "    correct = 0\n",
    "    N = X_test.shape[1]\n",
    "\n",
    "    for i in range(N):\n",
    "        pred_prob = f(w, X_test[:, i])\n",
    "        # print(f\"{pred_prob:.2f}\", end=\" \")\n",
    "        \n",
    "        if pred_prob >= threshold:\n",
    "            pred = 1\n",
    "        else:\n",
    "            pred = 0\n",
    "            \n",
    "        if pred == Y_test[i]:\n",
    "            correct += 1\n",
    "\n",
    "    return correct, correct / N"
   ]
  },
  {
   "cell_type": "code",
   "execution_count": 9,
   "metadata": {},
   "outputs": [
    {
     "name": "stdout",
     "output_type": "stream",
     "text": [
      "Train 3071 3117\n",
      "Test 992 1071\n"
     ]
    }
   ],
   "source": [
    "digits = [8, 9]\n",
    "X_train, Y_train, X_test, Y_test = createDataset(full_X, full_Y, digits, classification_type=\"binary\")\n",
    "print(\"Train\", (Y_train == 0).sum(), (Y_train == 1).sum())\n",
    "print(\"Test\", (Y_test == 0).sum(), (Y_test == 1).sum())"
   ]
  },
  {
   "cell_type": "code",
   "execution_count": 10,
   "metadata": {},
   "outputs": [
    {
     "name": "stdout",
     "output_type": "stream",
     "text": [
      "\n",
      " 0.971885603490063\n"
     ]
    },
    {
     "data": {
      "image/png": "[encoded data removed]",
      "text/plain": [
       "<Figure size 640x480 with 1 Axes>"
      ]
     },
     "metadata": {},
     "output_type": "display_data"
    },
    {
     "data": {
      "image/png": "[encoded data removed]",
      "text/plain": [
       "<Figure size 640x480 with 1 Axes>"
      ]
     },
     "metadata": {},
     "output_type": "display_data"
    }
   ],
   "source": [
    "history_w, history_loss, history_grad, history_err = sgd(loss, grad_loss, np.zeros(X_train.shape[0]), (X_train, Y_train), 500, 10, 1e-5)\n",
    "# history_w, curr_k, history_loss, history_grad, history_err = gd(loss, grad_loss, np.zeros(X_train.shape[0]), (X_train, Y_train), 5, 1e-8, 1e-8)\n",
    "\n",
    "correct, accuracy = evaluate(history_w[-1], X_test, Y_test)\n",
    "print(\"\\n\", accuracy)\n",
    "\n",
    "plt.plot(range(len(history_err)), history_err)\n",
    "plt.title(\"Gradient norm\")\n",
    "plt.show()\n",
    "\n",
    "plt.plot(range(len(history_loss)), history_loss)\n",
    "plt.title(\"Loss\")\n",
    "plt.show()"
   ]
  },
  {
   "cell_type": "code",
   "execution_count": 11,
   "metadata": {},
   "outputs": [
    {
     "name": "stderr",
     "output_type": "stream",
     "text": [
      "/tmp/ipykernel_706383/3489188747.py:2: RuntimeWarning: overflow encountered in exp\n",
      "  return 1 / (1 + np.exp(-x))\n"
     ]
    },
    {
     "name": "stdout",
     "output_type": "stream",
     "text": [
      "------ Classifying 0 1 ------\n",
      "||w_sgd - w_gd ||_2 = 0.10960125315280782\n",
      "SGD acc. = 0.9977313974591652 | GD acc. 0.9918330308529946\n",
      "------ Classifying 8 9 ------\n",
      "||w_sgd - w_gd ||_2 = 0.05403244247746689\n",
      "SGD acc. = 0.9689772176442074 | GD acc. 0.9510421715947649\n"
     ]
    }
   ],
   "source": [
    "def binaryDigitEvaluation(digit1, digit2):\n",
    "    X_train, Y_train, X_test, Y_test = createDataset(full_X, full_Y, [digit1, digit2])\n",
    "\n",
    "    history_w_sgd, _, _, _ = sgd(loss, grad_loss, np.zeros(X_train.shape[0]), (X_train, Y_train), 100, 15, 1e-6)\n",
    "    history_w_gd, _, _, _, _ = gd(loss, grad_loss, np.zeros(X_train.shape[0]), (X_train, Y_train), 5, 1e-10, 1e-10)\n",
    "\n",
    "    correct, accuracy_sgd = evaluate(history_w_sgd[-1], X_test, Y_test)\n",
    "    correct, accuracy_gd = evaluate(history_w_gd[-1], X_test, Y_test)\n",
    "    \n",
    "    print(f\"------ Classifying {digit1} {digit2} ------\")\n",
    "    print(f\"||w_sgd - w_gd ||_2 = {np.linalg.norm(history_w_sgd[-1] - history_w_gd[-1])}\")\n",
    "    print(f\"SGD acc. = {accuracy_sgd} | GD acc. {accuracy_gd}\")\n",
    "\n",
    "binaryDigitEvaluation(0, 1)\n",
    "binaryDigitEvaluation(8, 9)"
   ]
  },
  {
   "cell_type": "markdown",
   "metadata": {},
   "source": [
    "## Multi-class classification"
   ]
  },
  {
   "cell_type": "markdown",
   "metadata": {},
   "source": [
    "\\begin{equation}\n",
    "    w: N \\times 3\n",
    "\\end{equation}\n",
    "\n",
    "\\begin{split}\n",
    "    MSE&: (N \\times 3) \\rightarrow 1 \\\\\n",
    "    \\nabla MSE&: (N \\times 3) \\rightarrow (N \\times 3)\n",
    "\\end{split}\n",
    "\n",
    "\\begin{split}\n",
    "    \\sigma&: 3 \\rightarrow 3 \\\\\n",
    "    \\nabla\\sigma&: 3 \\rightarrow (3 \\times 3)\n",
    "\\end{split}\n",
    "\n",
    "\\begin{split}\n",
    "    f&: (N \\times 3) \\rightarrow 3 \\\\\n",
    "    \\nabla f&: (N \\times 3) \\rightarrow (3 \\times N \\times 3)\n",
    "\\end{split}"
   ]
  },
  {
   "cell_type": "code",
   "execution_count": 12,
   "metadata": {},
   "outputs": [],
   "source": [
    "def softmax(z):\n",
    "    exp_z = np.exp(z - np.max(z))\n",
    "    return exp_z / np.sum(exp_z)\n",
    "\n",
    "def softmax_grad(z):\n",
    "    # grad_matr = []\n",
    "    # for i in range(z.shape[0]):\n",
    "    #     grad_row = []\n",
    "    #     for j in range(z.shape[0]):\n",
    "    #         delta = 1 if i == j else 0\n",
    "    #         grad_row.append( softmax(z)[i] * (delta - softmax(z)[j]) )\n",
    "    #     grad_matr.append(grad_row)\n",
    "    \n",
    "    # return np.array(grad_matr)\n",
    "\n",
    "    s = softmax(z)\n",
    "    return np.diag(s) - np.outer(s, s)\n",
    "\n",
    "\n",
    "def f_multi(w, x):\n",
    "    return softmax(x.T @ w)\n",
    "\n",
    "def f_multi_grad(w, x):\n",
    "    def __grad(a):\n",
    "        grad = softmax_grad(a.T @ w)\n",
    "        out = np.array([ np.outer(a.T, grad[i, :]) for i in range(grad.shape[0]) ])\n",
    "        return out\n",
    "    \n",
    "    if x.ndim == 1: return __grad(x)\n",
    "    \n",
    "    out = []\n",
    "    for i_data in range(x.shape[1]):\n",
    "        data = x[:, i_data]\n",
    "        out.append(__grad(data))\n",
    "        \n",
    "    return np.array(out)\n",
    " \n",
    "\n",
    "def mse(f, w, D):\n",
    "    X, y = D\n",
    "    N = X.shape[1]\n",
    "    return (1/(2*N)) * (np.linalg.norm(f(w, X) - y, 2)**2)\n",
    "\n",
    "def mse_grad(f, grad_f, w, D):\n",
    "    X, y = D\n",
    "    N = X.shape[1]\n",
    "    grad = grad_f(w, X)\n",
    "    f_x = f(w, X)\n",
    "\n",
    "    out = []\n",
    "    for i in range(N):\n",
    "        grad_i = grad[i]\n",
    "        f_x_i = f_x[i]\n",
    "        y_i = y[i]\n",
    "        out.append((1/N) * grad_i @ (f_x_i - y_i))\n",
    "\n",
    "    return np.mean(np.array(out), axis=0).T\n",
    "\n",
    "\n",
    "def loss_multi(w, X, Y):\n",
    "    return mse(f_multi, w, (X, Y))\n",
    "\n",
    "def grad_loss_multi(w, X, Y):\n",
    "    return mse_grad(f_multi, f_multi_grad, w, (X, Y))"
   ]
  },
  {
   "cell_type": "code",
   "execution_count": 13,
   "metadata": {},
   "outputs": [],
   "source": [
    "def evaluateMulti(w, X_test, Y_test):\n",
    "    correct = 0\n",
    "    N = X_test.shape[1]\n",
    "\n",
    "    for i in range(N):\n",
    "        pred_probs = f_multi(w, X_test[:, i])\n",
    "        \n",
    "        if np.argmax(pred_probs) == np.argmax(Y_test[i]):\n",
    "            correct += 1\n",
    "\n",
    "    return correct, correct / N"
   ]
  },
  {
   "cell_type": "code",
   "execution_count": 14,
   "metadata": {},
   "outputs": [
    {
     "name": "stdout",
     "output_type": "stream",
     "text": [
      "1 | 3566 train -- 1118 test\n",
      "8 | 3005 train -- 1058 test\n",
      "9 | 3130 train -- 1058 test\n"
     ]
    }
   ],
   "source": [
    "digits = [1, 8, 9]\n",
    "X_train, Y_train, X_test, Y_test = createDataset(full_X, full_Y, digits, classification_type=\"multi\")\n",
    "\n",
    "for digit, train_size, test_size in zip([d for d in digits], np.sum(Y_train, axis=0), np.sum(Y_test, axis=0)):\n",
    "    print(f\"{digit} | {train_size} train -- {test_size} test\")"
   ]
  },
  {
   "cell_type": "code",
   "execution_count": 16,
   "metadata": {},
   "outputs": [
    {
     "name": "stdout",
     "output_type": "stream",
     "text": [
      "(3066, 0.948051948051948)\n"
     ]
    },
    {
     "data": {
      "image/png": "[encoded data removed]",
      "text/plain": [
       "<Figure size 640x480 with 1 Axes>"
      ]
     },
     "metadata": {},
     "output_type": "display_data"
    },
    {
     "data": {
      "image/png": "[encoded data removed]",
      "text/plain": [
       "<Figure size 640x480 with 1 Axes>"
      ]
     },
     "metadata": {},
     "output_type": "display_data"
    }
   ],
   "source": [
    "history_w, history_loss, history_grad, history_err = sgd(\n",
    "    loss_multi, grad_loss_multi, np.zeros((X_train.shape[0], len(digits))), (X_train, Y_train), 500, 10, 5e-4\n",
    ")\n",
    "# history_w, curr_k, history_loss, history_grad, history_err = gd(\n",
    "#     loss_multi, grad_loss_multi, np.zeros((X_train.shape[0], len(digits))), (X_train, Y_train), 5, 1e-8, 1e-8\n",
    "# )\n",
    "\n",
    "print(evaluateMulti(history_w[-1], X_test, Y_test))\n",
    "\n",
    "plt.plot(range(len(history_err)), history_err)\n",
    "plt.title(\"Gradient norm\")\n",
    "plt.show()\n",
    "\n",
    "plt.plot(range(len(history_loss)), history_loss)\n",
    "plt.title(\"Loss\")\n",
    "plt.show()"
   ]
  }
 ],
 "metadata": {
  "kernelspec": {
   "display_name": "smm",
   "language": "python",
   "name": "python3"
  },
  "language_info": {
   "codemirror_mode": {
    "name": "ipython",
    "version": 3
   },
   "file_extension": ".py",
   "mimetype": "text/x-python",
   "name": "python",
   "nbconvert_exporter": "python",
   "pygments_lexer": "ipython3",
   "version": "3.11.5"
  }
 },
 "nbformat": 4,
 "nbformat_minor": 2
}
