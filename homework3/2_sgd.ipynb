{
 "cells": [
  {
   "cell_type": "markdown",
   "metadata": {},
   "source": [
    "# Optimization via Stochastic Gradient Descent"
   ]
  },
  {
   "cell_type": "code",
   "execution_count": 1,
   "metadata": {},
   "outputs": [],
   "source": [
    "import numpy as np\n",
    "import matplotlib.pyplot as plt\n",
    "import seaborn as sns\n",
    "import pandas as pd\n",
    "import math\n",
    "\n",
    "np.random.seed(42)"
   ]
  },
  {
   "cell_type": "code",
   "execution_count": 2,
   "metadata": {},
   "outputs": [],
   "source": [
    "def sgd(loss, grad_loss, w0, data, batch_size, n_epochs, lr):\n",
    "    X, y = data\n",
    "    data_size = X.shape[1]\n",
    "    curr_w = w0\n",
    "    history_w = [w0]\n",
    "    history_loss = [loss(w0, X, y)]\n",
    "    history_grad = [grad_loss(w0, X, y)]\n",
    "    history_err = [np.linalg.norm(history_grad[-1], 2)]\n",
    "\n",
    "    for _ in range(n_epochs):\n",
    "        idxs = np.arange(0, data_size)\n",
    "        np.random.shuffle(idxs)\n",
    "\n",
    "        for i in range(math.ceil(data_size / batch_size)):\n",
    "        # for i in range(data_size // batch_size):\n",
    "            batch_idxs = idxs[i*batch_size : (i+1)*batch_size]\n",
    "            batch_X = X[:, batch_idxs]\n",
    "            batch_y = y[batch_idxs]\n",
    "\n",
    "            curr_w = curr_w - lr*grad_loss(curr_w, batch_X, batch_y)\n",
    "\n",
    "        history_w.append(curr_w)\n",
    "        history_loss.append(loss(curr_w, X, y))\n",
    "        history_grad.append(grad_loss(curr_w, X, y))\n",
    "        history_err.append( np.linalg.norm(history_grad[-1], 2) )\n",
    "\n",
    "    return history_w, history_loss, history_grad, history_err"
   ]
  },
  {
   "cell_type": "code",
   "execution_count": 3,
   "metadata": {},
   "outputs": [],
   "source": [
    "def backtracking(loss, grad_loss, w, data):\n",
    "    \"\"\"\n",
    "    This function is a simple implementation of the backtracking algorithm for\n",
    "    the GD (Gradient Descent) method.\n",
    "    \n",
    "    f: function. The function that we want to optimize.\n",
    "    grad_f: function. The gradient of f(x).\n",
    "    x: ndarray. The actual iterate x_k.\n",
    "    \"\"\"\n",
    "    X, y = data\n",
    "    alpha = 1\n",
    "    c = 0.8\n",
    "    tau = 0.25\n",
    "    \n",
    "    while loss(w - alpha * grad_loss(w, X, y), X, y) > loss(w, X, y) - c * alpha * np.linalg.norm(grad_loss(w, X, y), 2) ** 2:\n",
    "        alpha = tau * alpha\n",
    "        \n",
    "        if alpha < 1e-3:\n",
    "            break\n",
    "    return alpha\n",
    "\n",
    "\n",
    "def gd(loss, grad_loss, w0, data, k_max, tol_loss, tol_w, alpha=None):\n",
    "    X, y = data\n",
    "    curr_w, prev_w = w0, np.inf\n",
    "    curr_k = 0\n",
    "    grad_x0, curr_grad = grad_loss(w0, X, y), grad_loss(curr_w, X, y)\n",
    "    history_w = [w0]\n",
    "    history_loss = [loss(w0, X, y)]\n",
    "    history_grad = [grad_x0]\n",
    "    history_err = [np.linalg.norm(grad_x0, 2)]\n",
    "    use_backtracking = alpha is None\n",
    "\n",
    "    while (curr_k < k_max and \n",
    "            not (np.linalg.norm(curr_grad, 2) < tol_loss*np.linalg.norm(grad_x0, 2)) and\n",
    "            not (np.linalg.norm(curr_w - prev_w, 2) < tol_w)):\n",
    "        if use_backtracking:\n",
    "            alpha = backtracking(loss, grad_loss, curr_w, data)\n",
    "        prev_w = curr_w\n",
    "        curr_w = curr_w - alpha*grad_loss(curr_w, X, y)\n",
    "\n",
    "        curr_grad = grad_loss(curr_w, X, y)\n",
    "        curr_k += 1\n",
    "        \n",
    "        history_w.append(curr_w)\n",
    "        history_loss.append(loss(curr_w, X, y))\n",
    "        history_grad.append(curr_grad)\n",
    "        history_err.append(np.linalg.norm(curr_grad, 2))\n",
    "\n",
    "    return history_w, curr_k, history_loss, history_grad, history_err"
   ]
  },
  {
   "cell_type": "code",
   "execution_count": 35,
   "metadata": {},
   "outputs": [],
   "source": [
    "def train_test_split(X, Y, train_size):\n",
    "    idxs = np.arange(0, X.shape[1])\n",
    "    np.random.shuffle(idxs)\n",
    "    X_train = X[:, idxs[:train_size]]\n",
    "    Y_train = Y[idxs[:train_size]]\n",
    "    X_test = X[:, idxs[train_size:]]\n",
    "    Y_test = Y[idxs[train_size:]]\n",
    "\n",
    "    return X_train, Y_train, X_test, Y_test\n",
    "\n",
    "\n",
    "def filterDigits(X, Y, digits):\n",
    "    select_mask = np.full(Y.shape, False)\n",
    "    for d in digits:\n",
    "        select_mask = select_mask | (Y == d)\n",
    "    \n",
    "    return X[:, select_mask], Y[select_mask]\n",
    "\n",
    "\n",
    "def onehot(Y_digits):\n",
    "    digits = np.unique(Y_digits).tolist()\n",
    "    return np.array([ [0]*((digits.index(d))) + [1] + [0]*((len(digits) - digits.index(d)-1)) for d in Y_digits ])\n",
    "\n",
    "\n",
    "def createDataset(X, Y, digits, classification_type=\"binary\", train_ratio=0.75):\n",
    "    X, Y = filterDigits(X, Y, digits)\n",
    "\n",
    "    if classification_type == \"binary\":\n",
    "        Y[Y == digits[0]] = 0\n",
    "        Y[Y == digits[1]] = 1\n",
    "    elif classification_type == \"multi\":\n",
    "        Y = onehot(Y)\n",
    "    else: raise Exception(\"Invalid type\")\n",
    "\n",
    "    return train_test_split(X, Y, int(train_ratio*X.shape[1]))"
   ]
  },
  {
   "cell_type": "code",
   "execution_count": 5,
   "metadata": {},
   "outputs": [
    {
     "name": "stdout",
     "output_type": "stream",
     "text": [
      "(785, 42000) (42000,)\n"
     ]
    }
   ],
   "source": [
    "def addColumn(A):\n",
    "    out = np.ones((A.shape[0]+1, A.shape[1]))\n",
    "    out[1:, :] = A\n",
    "    return out\n",
    "\n",
    "data = pd.read_csv(\"../homework2/data/data.csv\")\n",
    "data = data.to_numpy()\n",
    "\n",
    "full_X = addColumn(data[:, 1:].T)\n",
    "full_Y = data[:, 0].T\n",
    "print(full_X.shape, full_Y.shape)"
   ]
  },
  {
   "cell_type": "markdown",
   "metadata": {},
   "source": [
    "## Binary classification"
   ]
  },
  {
   "cell_type": "code",
   "execution_count": 38,
   "metadata": {},
   "outputs": [],
   "source": [
    "def sigmoid(x):\n",
    "    return 1 / (1 + np.exp(-x))\n",
    "\n",
    "def f(w, x):\n",
    "    return sigmoid(x.T @ w)\n",
    "\n",
    "\n",
    "def mse(fn, w, X, y):\n",
    "    N = X.shape[1]\n",
    "    return (1/(2*N)) * np.linalg.norm(fn(w, X) - y, 2)**2\n",
    "\n",
    "def mse_grad(fn, w, X, y):\n",
    "    N = X.shape[1]\n",
    "    fn_X = fn(w, X)\n",
    "    return (1/N) * ( X @ (fn_X * (1-fn_X) * (fn_X - y)) )\n",
    "\n",
    "\n",
    "def loss(w, X, Y):\n",
    "    return mse(f, w, X, Y)\n",
    "\n",
    "def grad_loss(w, X, Y):\n",
    "    return mse_grad(f, w, X, Y)"
   ]
  },
  {
   "cell_type": "code",
   "execution_count": 39,
   "metadata": {},
   "outputs": [],
   "source": [
    "def evaluate(w, X_test, Y_test, threshold=0.5):\n",
    "    correct = 0\n",
    "    N = X_test.shape[1]\n",
    "\n",
    "    for i in range(N):\n",
    "        pred_prob = f(w, X_test[:, i])\n",
    "        # print(f\"{pred_prob:.2f}\", end=\" \")\n",
    "        \n",
    "        if pred_prob >= threshold:\n",
    "            pred = 1\n",
    "        else:\n",
    "            pred = 0\n",
    "            \n",
    "        if pred == Y_test[i]:\n",
    "            correct += 1\n",
    "\n",
    "    return correct, correct / N"
   ]
  },
  {
   "cell_type": "code",
   "execution_count": 40,
   "metadata": {},
   "outputs": [
    {
     "name": "stdout",
     "output_type": "stream",
     "text": [
      "Train 3045 3143\n",
      "Test 1018 1045\n"
     ]
    }
   ],
   "source": [
    "digits = [8, 9]\n",
    "X_train, Y_train, X, Y = createDataset(full_X, full_Y, digits, classification_type=\"binary\")\n",
    "print(\"Train\", (Y_train == 0).sum(), (Y_train == 1).sum())\n",
    "print(\"Test\", (Y == 0).sum(), (Y == 1).sum())"
   ]
  },
  {
   "cell_type": "code",
   "execution_count": 41,
   "metadata": {},
   "outputs": [
    {
     "name": "stdout",
     "output_type": "stream",
     "text": [
      "\n",
      " 0.9733397964129908\n"
     ]
    },
    {
     "data": {
      "image/png": "[encoded data removed]",
      "text/plain": [
       "<Figure size 640x480 with 1 Axes>"
      ]
     },
     "metadata": {},
     "output_type": "display_data"
    },
    {
     "data": {
      "image/png": "[encoded data removed]",
      "text/plain": [
       "<Figure size 640x480 with 1 Axes>"
      ]
     },
     "metadata": {},
     "output_type": "display_data"
    }
   ],
   "source": [
    "history_w, history_loss, history_grad, history_err = sgd(loss, grad_loss, np.zeros(X_train.shape[0]), (X_train, Y_train), 500, 10, 1e-5)\n",
    "# history_w, curr_k, history_loss, history_grad, history_err = gd(loss, grad_loss, np.zeros(X_train.shape[0]), (X_train, Y_train), 5, 1e-8, 1e-8)\n",
    "\n",
    "correct, accuracy = evaluate(history_w[-1], X, Y)\n",
    "print(\"\\n\", accuracy)\n",
    "\n",
    "plt.plot(range(len(history_err)), history_err)\n",
    "plt.title(\"Gradient norm\")\n",
    "plt.show()\n",
    "\n",
    "plt.plot(range(len(history_loss)), history_loss)\n",
    "plt.title(\"Loss\")\n",
    "plt.show()"
   ]
  },
  {
   "cell_type": "code",
   "execution_count": 10,
   "metadata": {},
   "outputs": [],
   "source": [
    "class BinaryLogisticRegression:\n",
    "    def __init__(self):\n",
    "        self.w = None\n",
    "\n",
    "    def fit(self, X_train, Y_train, algorithm=\"sgd\", w0=None, batch_size=200, epochs=10, lr=1e-5, tol_loss=1e-8, tol_w=1e-8):\n",
    "        if algorithm == \"sgd\":\n",
    "            history_w, history_loss, history_grad, history_err = sgd(\n",
    "                loss, grad_loss, \n",
    "                w0 if w0 is not None else np.zeros(X_train.shape[0]), \n",
    "                (X_train, Y_train), \n",
    "                batch_size, epochs, lr\n",
    "            )\n",
    "        else:\n",
    "            history_w, curr_k, history_loss, history_grad, history_err = gd(\n",
    "                loss, grad_loss, \n",
    "                w0 if w0 is not None else np.zeros(X_train.shape[0]), \n",
    "                (X_train, Y_train), epochs, tol_loss, tol_w\n",
    "            )\n",
    "            \n",
    "        self.w = history_w[-1]\n",
    "\n",
    "    def predict(self, X, threshold=0.5):\n",
    "        if X.ndim == 1:\n",
    "            return 1 if f(self.w, X) >= threshold else 0\n",
    "        else:\n",
    "            out = []\n",
    "\n",
    "            for i in range(X.shape[1]):\n",
    "                out.append(1 if f(self.w, X[:, i]) >= threshold else 0)\n",
    "            return np.array(out)        "
   ]
  },
  {
   "cell_type": "code",
   "execution_count": 11,
   "metadata": {},
   "outputs": [
    {
     "name": "stderr",
     "output_type": "stream",
     "text": [
      "/tmp/ipykernel_78281/3489188747.py:2: RuntimeWarning: overflow encountered in exp\n",
      "  return 1 / (1 + np.exp(-x))\n"
     ]
    },
    {
     "name": "stdout",
     "output_type": "stream",
     "text": [
      "------ Classifying 0 1 ------\n",
      "||w_sgd - w_gd ||_2 = 0.10964653336957088\n",
      "SGD acc. = 0.9986388384754991 | GD acc. 0.9950090744101633\n",
      "------ Classifying 8 9 ------\n",
      "||w_sgd - w_gd ||_2 = 0.05214688355726132\n",
      "SGD acc. = 0.9772176442074648 | GD acc. 0.9660688317983519\n"
     ]
    }
   ],
   "source": [
    "def binaryDigitEvaluation(digit1, digit2):\n",
    "    X_train, Y_train, X_test, Y_test = createDataset(full_X, full_Y, [digit1, digit2])\n",
    "\n",
    "    model_sgd = BinaryLogisticRegression()\n",
    "    model_gd = BinaryLogisticRegression()\n",
    "    model_sgd.fit(X_train, Y_train, algorithm=\"sgd\")\n",
    "    model_gd.fit(X_train, Y_train, algorithm=\"gd\")\n",
    "\n",
    "    accuracy_sgd = np.sum(model_sgd.predict(X_test) == Y_test) / Y_test.shape[0]\n",
    "    accuracy_gd = np.sum(model_gd.predict(X_test) == Y_test) / Y_test.shape[0]\n",
    "    \n",
    "    print(f\"------ Classifying {digit1} {digit2} ------\")\n",
    "    print(f\"||w_sgd - w_gd ||_2 = {np.linalg.norm(model_sgd.w - model_gd.w)}\")\n",
    "    print(f\"SGD acc. = {accuracy_sgd} | GD acc. {accuracy_gd}\")\n",
    "\n",
    "binaryDigitEvaluation(0, 1)\n",
    "binaryDigitEvaluation(8, 9)"
   ]
  },
  {
   "cell_type": "code",
   "execution_count": 12,
   "metadata": {},
   "outputs": [],
   "source": [
    "def trainModels(train_ratio):\n",
    "    models_sgd = {}\n",
    "    models_gd = {}\n",
    "\n",
    "    for i in range(0, 10):\n",
    "        for j in range(i, 10):\n",
    "            X_train, Y_train, X_test, Y_test = createDataset(full_X, full_Y, [i, j], classification_type=\"binary\", train_ratio=train_ratio)\n",
    "            \n",
    "            model_sgd = BinaryLogisticRegression()\n",
    "            model_sgd.fit(X_train, Y_train, \"sgd\")\n",
    "            models_sgd[(i,j)] = models_sgd[(j, i)] = (model_sgd, X_test, Y_test)\n",
    "\n",
    "            model_gd = BinaryLogisticRegression()\n",
    "            model_gd.fit(X_train, Y_train, \"gd\")\n",
    "            models_gd[(i,j)] = models_gd[(j, i)] = (model_gd, X_test, Y_test)\n",
    "\n",
    "    return models_sgd, models_gd\n",
    "\n",
    "\n",
    "def accuracyHeatMapData(models):\n",
    "    accuracies = np.zeros((10, 10))\n",
    "\n",
    "    for i in range(0, 10):\n",
    "        for j in range(i, 10):\n",
    "            if i == j: accuracies[i, j] = 1\n",
    "\n",
    "            model, X_test, Y_test = models[(i, j)]\n",
    "            accuracies[i, j] = accuracies[j, i] = np.sum(model.predict(X_test) == Y_test) / Y_test.shape[0]\n",
    "\n",
    "    return accuracies\n",
    "\n",
    "\n",
    "def paramsDiffHeatMapData(models_sgd, models_gd):\n",
    "    differences = np.zeros((10, 10))\n",
    "\n",
    "    for i in range(0, 10):\n",
    "        for j in range(i, 10):\n",
    "            model_sgd, _, _ = models_sgd[(i, j)]\n",
    "            model_gd, _, _ = models_gd[(i, j)]\n",
    "            differences[i, j] = differences[j, i] = np.linalg.norm(model_sgd.w - model_gd.w)\n",
    "\n",
    "    return differences"
   ]
  },
  {
   "cell_type": "code",
   "execution_count": 13,
   "metadata": {},
   "outputs": [
    {
     "name": "stderr",
     "output_type": "stream",
     "text": [
      "/tmp/ipykernel_78281/3489188747.py:2: RuntimeWarning: overflow encountered in exp\n",
      "  return 1 / (1 + np.exp(-x))\n"
     ]
    },
    {
     "ename": "KeyboardInterrupt",
     "evalue": "",
     "output_type": "error",
     "traceback": [
      "\u001b[0;31m---------------------------------------------------------------------------\u001b[0m",
      "\u001b[0;31mKeyboardInterrupt\u001b[0m                         Traceback (most recent call last)",
      "\u001b[1;32m/mnt/1858B8C213291A84/uni_code/unibo-smm-homework/homework3/2_sgd.ipynb Cell 15\u001b[0m line \u001b[0;36m9\n\u001b[1;32m      <a href='vscode-notebook-cell:/mnt/1858B8C213291A84/uni_code/unibo-smm-homework/homework3/2_sgd.ipynb#X20sZmlsZQ%3D%3D?line=5'>6</a>\u001b[0m ax2 \u001b[39m=\u001b[39m plt\u001b[39m.\u001b[39msubplot(\u001b[39m1\u001b[39m, \u001b[39m3\u001b[39m, \u001b[39m2\u001b[39m)\n\u001b[1;32m      <a href='vscode-notebook-cell:/mnt/1858B8C213291A84/uni_code/unibo-smm-homework/homework3/2_sgd.ipynb#X20sZmlsZQ%3D%3D?line=6'>7</a>\u001b[0m ax3 \u001b[39m=\u001b[39m plt\u001b[39m.\u001b[39msubplot(\u001b[39m1\u001b[39m, \u001b[39m3\u001b[39m, \u001b[39m3\u001b[39m)\n\u001b[0;32m----> <a href='vscode-notebook-cell:/mnt/1858B8C213291A84/uni_code/unibo-smm-homework/homework3/2_sgd.ipynb#X20sZmlsZQ%3D%3D?line=8'>9</a>\u001b[0m models_sgd, models_gd \u001b[39m=\u001b[39m trainModels(ratio)\n\u001b[1;32m     <a href='vscode-notebook-cell:/mnt/1858B8C213291A84/uni_code/unibo-smm-homework/homework3/2_sgd.ipynb#X20sZmlsZQ%3D%3D?line=10'>11</a>\u001b[0m plt\u001b[39m.\u001b[39msuptitle(\u001b[39mf\u001b[39m\u001b[39m\"\u001b[39m\u001b[39mTrain ratio: \u001b[39m\u001b[39m{\u001b[39;00mratio\u001b[39m}\u001b[39;00m\u001b[39m\"\u001b[39m)\n\u001b[1;32m     <a href='vscode-notebook-cell:/mnt/1858B8C213291A84/uni_code/unibo-smm-homework/homework3/2_sgd.ipynb#X20sZmlsZQ%3D%3D?line=12'>13</a>\u001b[0m accuracies_sgd \u001b[39m=\u001b[39m accuracyHeatMapData(models_sgd)\n",
      "\u001b[1;32m/mnt/1858B8C213291A84/uni_code/unibo-smm-homework/homework3/2_sgd.ipynb Cell 15\u001b[0m line \u001b[0;36m1\n\u001b[1;32m      <a href='vscode-notebook-cell:/mnt/1858B8C213291A84/uni_code/unibo-smm-homework/homework3/2_sgd.ipynb#X20sZmlsZQ%3D%3D?line=6'>7</a>\u001b[0m X_train, Y_train, X_test, Y_test \u001b[39m=\u001b[39m createDataset(full_X, full_Y, [i, j], classification_type\u001b[39m=\u001b[39m\u001b[39m\"\u001b[39m\u001b[39mbinary\u001b[39m\u001b[39m\"\u001b[39m, train_ratio\u001b[39m=\u001b[39mtrain_ratio)\n\u001b[1;32m      <a href='vscode-notebook-cell:/mnt/1858B8C213291A84/uni_code/unibo-smm-homework/homework3/2_sgd.ipynb#X20sZmlsZQ%3D%3D?line=8'>9</a>\u001b[0m model_sgd \u001b[39m=\u001b[39m BinaryLogisticRegression()\n\u001b[0;32m---> <a href='vscode-notebook-cell:/mnt/1858B8C213291A84/uni_code/unibo-smm-homework/homework3/2_sgd.ipynb#X20sZmlsZQ%3D%3D?line=9'>10</a>\u001b[0m model_sgd\u001b[39m.\u001b[39;49mfit(X_train, Y_train, \u001b[39m\"\u001b[39;49m\u001b[39msgd\u001b[39;49m\u001b[39m\"\u001b[39;49m)\n\u001b[1;32m     <a href='vscode-notebook-cell:/mnt/1858B8C213291A84/uni_code/unibo-smm-homework/homework3/2_sgd.ipynb#X20sZmlsZQ%3D%3D?line=10'>11</a>\u001b[0m models_sgd[(i,j)] \u001b[39m=\u001b[39m models_sgd[(j, i)] \u001b[39m=\u001b[39m (model_sgd, X_test, Y_test)\n\u001b[1;32m     <a href='vscode-notebook-cell:/mnt/1858B8C213291A84/uni_code/unibo-smm-homework/homework3/2_sgd.ipynb#X20sZmlsZQ%3D%3D?line=12'>13</a>\u001b[0m model_gd \u001b[39m=\u001b[39m BinaryLogisticRegression()\n",
      "\u001b[1;32m/mnt/1858B8C213291A84/uni_code/unibo-smm-homework/homework3/2_sgd.ipynb Cell 15\u001b[0m line \u001b[0;36m7\n\u001b[1;32m      <a href='vscode-notebook-cell:/mnt/1858B8C213291A84/uni_code/unibo-smm-homework/homework3/2_sgd.ipynb#X20sZmlsZQ%3D%3D?line=4'>5</a>\u001b[0m \u001b[39mdef\u001b[39;00m \u001b[39mfit\u001b[39m(\u001b[39mself\u001b[39m, X_train, Y_train, algorithm\u001b[39m=\u001b[39m\u001b[39m\"\u001b[39m\u001b[39msgd\u001b[39m\u001b[39m\"\u001b[39m, w0\u001b[39m=\u001b[39m\u001b[39mNone\u001b[39;00m, batch_size\u001b[39m=\u001b[39m\u001b[39m200\u001b[39m, epochs\u001b[39m=\u001b[39m\u001b[39m10\u001b[39m, lr\u001b[39m=\u001b[39m\u001b[39m1e-5\u001b[39m, tol_loss\u001b[39m=\u001b[39m\u001b[39m1e-8\u001b[39m, tol_w\u001b[39m=\u001b[39m\u001b[39m1e-8\u001b[39m):\n\u001b[1;32m      <a href='vscode-notebook-cell:/mnt/1858B8C213291A84/uni_code/unibo-smm-homework/homework3/2_sgd.ipynb#X20sZmlsZQ%3D%3D?line=5'>6</a>\u001b[0m     \u001b[39mif\u001b[39;00m algorithm \u001b[39m==\u001b[39m \u001b[39m\"\u001b[39m\u001b[39msgd\u001b[39m\u001b[39m\"\u001b[39m:\n\u001b[0;32m----> <a href='vscode-notebook-cell:/mnt/1858B8C213291A84/uni_code/unibo-smm-homework/homework3/2_sgd.ipynb#X20sZmlsZQ%3D%3D?line=6'>7</a>\u001b[0m         history_w, history_loss, history_grad, history_err \u001b[39m=\u001b[39m sgd(\n\u001b[1;32m      <a href='vscode-notebook-cell:/mnt/1858B8C213291A84/uni_code/unibo-smm-homework/homework3/2_sgd.ipynb#X20sZmlsZQ%3D%3D?line=7'>8</a>\u001b[0m             loss, grad_loss, \n\u001b[1;32m      <a href='vscode-notebook-cell:/mnt/1858B8C213291A84/uni_code/unibo-smm-homework/homework3/2_sgd.ipynb#X20sZmlsZQ%3D%3D?line=8'>9</a>\u001b[0m             w0 \u001b[39mif\u001b[39;49;00m w0 \u001b[39mis\u001b[39;49;00m \u001b[39mnot\u001b[39;49;00m \u001b[39mNone\u001b[39;49;00m \u001b[39melse\u001b[39;49;00m np\u001b[39m.\u001b[39;49mzeros(X_train\u001b[39m.\u001b[39;49mshape[\u001b[39m0\u001b[39;49m]), \n\u001b[1;32m     <a href='vscode-notebook-cell:/mnt/1858B8C213291A84/uni_code/unibo-smm-homework/homework3/2_sgd.ipynb#X20sZmlsZQ%3D%3D?line=9'>10</a>\u001b[0m             (X_train, Y_train), \n\u001b[1;32m     <a href='vscode-notebook-cell:/mnt/1858B8C213291A84/uni_code/unibo-smm-homework/homework3/2_sgd.ipynb#X20sZmlsZQ%3D%3D?line=10'>11</a>\u001b[0m             batch_size, epochs, lr\n\u001b[1;32m     <a href='vscode-notebook-cell:/mnt/1858B8C213291A84/uni_code/unibo-smm-homework/homework3/2_sgd.ipynb#X20sZmlsZQ%3D%3D?line=11'>12</a>\u001b[0m         )\n\u001b[1;32m     <a href='vscode-notebook-cell:/mnt/1858B8C213291A84/uni_code/unibo-smm-homework/homework3/2_sgd.ipynb#X20sZmlsZQ%3D%3D?line=12'>13</a>\u001b[0m     \u001b[39melse\u001b[39;00m:\n\u001b[1;32m     <a href='vscode-notebook-cell:/mnt/1858B8C213291A84/uni_code/unibo-smm-homework/homework3/2_sgd.ipynb#X20sZmlsZQ%3D%3D?line=13'>14</a>\u001b[0m         history_w, curr_k, history_loss, history_grad, history_err \u001b[39m=\u001b[39m gd(\n\u001b[1;32m     <a href='vscode-notebook-cell:/mnt/1858B8C213291A84/uni_code/unibo-smm-homework/homework3/2_sgd.ipynb#X20sZmlsZQ%3D%3D?line=14'>15</a>\u001b[0m             loss, grad_loss, \n\u001b[1;32m     <a href='vscode-notebook-cell:/mnt/1858B8C213291A84/uni_code/unibo-smm-homework/homework3/2_sgd.ipynb#X20sZmlsZQ%3D%3D?line=15'>16</a>\u001b[0m             w0 \u001b[39mif\u001b[39;00m w0 \u001b[39mis\u001b[39;00m \u001b[39mnot\u001b[39;00m \u001b[39mNone\u001b[39;00m \u001b[39melse\u001b[39;00m np\u001b[39m.\u001b[39mzeros(X_train\u001b[39m.\u001b[39mshape[\u001b[39m0\u001b[39m]), \n\u001b[1;32m     <a href='vscode-notebook-cell:/mnt/1858B8C213291A84/uni_code/unibo-smm-homework/homework3/2_sgd.ipynb#X20sZmlsZQ%3D%3D?line=16'>17</a>\u001b[0m             (X_train, Y_train), epochs, tol_loss, tol_w\n\u001b[1;32m     <a href='vscode-notebook-cell:/mnt/1858B8C213291A84/uni_code/unibo-smm-homework/homework3/2_sgd.ipynb#X20sZmlsZQ%3D%3D?line=17'>18</a>\u001b[0m         )\n",
      "\u001b[1;32m/mnt/1858B8C213291A84/uni_code/unibo-smm-homework/homework3/2_sgd.ipynb Cell 15\u001b[0m line \u001b[0;36m2\n\u001b[1;32m     <a href='vscode-notebook-cell:/mnt/1858B8C213291A84/uni_code/unibo-smm-homework/homework3/2_sgd.ipynb#X20sZmlsZQ%3D%3D?line=21'>22</a>\u001b[0m     history_w\u001b[39m.\u001b[39mappend(curr_w)\n\u001b[1;32m     <a href='vscode-notebook-cell:/mnt/1858B8C213291A84/uni_code/unibo-smm-homework/homework3/2_sgd.ipynb#X20sZmlsZQ%3D%3D?line=22'>23</a>\u001b[0m     history_loss\u001b[39m.\u001b[39mappend(loss(curr_w, X, y))\n\u001b[0;32m---> <a href='vscode-notebook-cell:/mnt/1858B8C213291A84/uni_code/unibo-smm-homework/homework3/2_sgd.ipynb#X20sZmlsZQ%3D%3D?line=23'>24</a>\u001b[0m     history_grad\u001b[39m.\u001b[39mappend(grad_loss(curr_w, X, y))\n\u001b[1;32m     <a href='vscode-notebook-cell:/mnt/1858B8C213291A84/uni_code/unibo-smm-homework/homework3/2_sgd.ipynb#X20sZmlsZQ%3D%3D?line=24'>25</a>\u001b[0m     history_err\u001b[39m.\u001b[39mappend( np\u001b[39m.\u001b[39mlinalg\u001b[39m.\u001b[39mnorm(history_grad[\u001b[39m-\u001b[39m\u001b[39m1\u001b[39m], \u001b[39m2\u001b[39m) )\n\u001b[1;32m     <a href='vscode-notebook-cell:/mnt/1858B8C213291A84/uni_code/unibo-smm-homework/homework3/2_sgd.ipynb#X20sZmlsZQ%3D%3D?line=26'>27</a>\u001b[0m \u001b[39mreturn\u001b[39;00m history_w, history_loss, history_grad, history_err\n",
      "\u001b[1;32m/mnt/1858B8C213291A84/uni_code/unibo-smm-homework/homework3/2_sgd.ipynb Cell 15\u001b[0m line \u001b[0;36m2\n\u001b[1;32m     <a href='vscode-notebook-cell:/mnt/1858B8C213291A84/uni_code/unibo-smm-homework/homework3/2_sgd.ipynb#X20sZmlsZQ%3D%3D?line=20'>21</a>\u001b[0m \u001b[39mdef\u001b[39;00m \u001b[39mgrad_loss\u001b[39m(w, X, Y):\n\u001b[0;32m---> <a href='vscode-notebook-cell:/mnt/1858B8C213291A84/uni_code/unibo-smm-homework/homework3/2_sgd.ipynb#X20sZmlsZQ%3D%3D?line=21'>22</a>\u001b[0m     \u001b[39mreturn\u001b[39;00m mse_grad(f, w, X, Y)\n",
      "\u001b[1;32m/mnt/1858B8C213291A84/uni_code/unibo-smm-homework/homework3/2_sgd.ipynb Cell 15\u001b[0m line \u001b[0;36m1\n\u001b[1;32m     <a href='vscode-notebook-cell:/mnt/1858B8C213291A84/uni_code/unibo-smm-homework/homework3/2_sgd.ipynb#X20sZmlsZQ%3D%3D?line=11'>12</a>\u001b[0m \u001b[39mdef\u001b[39;00m \u001b[39mmse_grad\u001b[39m(fn, w, X, y):\n\u001b[1;32m     <a href='vscode-notebook-cell:/mnt/1858B8C213291A84/uni_code/unibo-smm-homework/homework3/2_sgd.ipynb#X20sZmlsZQ%3D%3D?line=12'>13</a>\u001b[0m     N \u001b[39m=\u001b[39m X\u001b[39m.\u001b[39mshape[\u001b[39m1\u001b[39m]\n\u001b[0;32m---> <a href='vscode-notebook-cell:/mnt/1858B8C213291A84/uni_code/unibo-smm-homework/homework3/2_sgd.ipynb#X20sZmlsZQ%3D%3D?line=13'>14</a>\u001b[0m     fn_X \u001b[39m=\u001b[39m fn(w, X)\n\u001b[1;32m     <a href='vscode-notebook-cell:/mnt/1858B8C213291A84/uni_code/unibo-smm-homework/homework3/2_sgd.ipynb#X20sZmlsZQ%3D%3D?line=14'>15</a>\u001b[0m     \u001b[39mreturn\u001b[39;00m (\u001b[39m1\u001b[39m\u001b[39m/\u001b[39mN) \u001b[39m*\u001b[39m ( X \u001b[39m@\u001b[39m (fn_X \u001b[39m*\u001b[39m (\u001b[39m1\u001b[39m\u001b[39m-\u001b[39mfn_X) \u001b[39m*\u001b[39m (fn_X \u001b[39m-\u001b[39m y)) )\n",
      "\u001b[1;32m/mnt/1858B8C213291A84/uni_code/unibo-smm-homework/homework3/2_sgd.ipynb Cell 15\u001b[0m line \u001b[0;36m5\n\u001b[1;32m      <a href='vscode-notebook-cell:/mnt/1858B8C213291A84/uni_code/unibo-smm-homework/homework3/2_sgd.ipynb#X20sZmlsZQ%3D%3D?line=3'>4</a>\u001b[0m \u001b[39mdef\u001b[39;00m \u001b[39mf\u001b[39m(w, x):\n\u001b[0;32m----> <a href='vscode-notebook-cell:/mnt/1858B8C213291A84/uni_code/unibo-smm-homework/homework3/2_sgd.ipynb#X20sZmlsZQ%3D%3D?line=4'>5</a>\u001b[0m     \u001b[39mreturn\u001b[39;00m sigmoid(x\u001b[39m.\u001b[39;49mT \u001b[39m@\u001b[39;49m w)\n",
      "\u001b[1;32m/mnt/1858B8C213291A84/uni_code/unibo-smm-homework/homework3/2_sgd.ipynb Cell 15\u001b[0m line \u001b[0;36m1\n\u001b[0;32m----> <a href='vscode-notebook-cell:/mnt/1858B8C213291A84/uni_code/unibo-smm-homework/homework3/2_sgd.ipynb#X20sZmlsZQ%3D%3D?line=0'>1</a>\u001b[0m \u001b[39mdef\u001b[39;00m \u001b[39msigmoid\u001b[39m(x):\n\u001b[1;32m      <a href='vscode-notebook-cell:/mnt/1858B8C213291A84/uni_code/unibo-smm-homework/homework3/2_sgd.ipynb#X20sZmlsZQ%3D%3D?line=1'>2</a>\u001b[0m     \u001b[39mreturn\u001b[39;00m \u001b[39m1\u001b[39m \u001b[39m/\u001b[39m (\u001b[39m1\u001b[39m \u001b[39m+\u001b[39m np\u001b[39m.\u001b[39mexp(\u001b[39m-\u001b[39mx))\n\u001b[1;32m      <a href='vscode-notebook-cell:/mnt/1858B8C213291A84/uni_code/unibo-smm-homework/homework3/2_sgd.ipynb#X20sZmlsZQ%3D%3D?line=3'>4</a>\u001b[0m \u001b[39mdef\u001b[39;00m \u001b[39mf\u001b[39m(w, x):\n",
      "\u001b[0;31mKeyboardInterrupt\u001b[0m: "
     ]
    },
    {
     "data": {
      "image/png": "[encoded data removed]",
      "text/plain": [
       "<Figure size 2000x400 with 3 Axes>"
      ]
     },
     "metadata": {},
     "output_type": "display_data"
    }
   ],
   "source": [
    "to_test_ratio = [0.95, 0.75, 0.5, 0.25, 0.01]\n",
    "\n",
    "for i, ratio in enumerate(to_test_ratio):\n",
    "    plt.figure(figsize=(20, 4))\n",
    "    ax1 = plt.subplot(1, 3, 1)\n",
    "    ax2 = plt.subplot(1, 3, 2)\n",
    "    ax3 = plt.subplot(1, 3, 3)\n",
    "\n",
    "    models_sgd, models_gd = trainModels(ratio)\n",
    "\n",
    "    plt.suptitle(f\"Train ratio: {ratio}\")\n",
    "\n",
    "    accuracies_sgd = accuracyHeatMapData(models_sgd)\n",
    "    accuracies_gd = accuracyHeatMapData(models_gd)\n",
    "    param_diffs = paramsDiffHeatMapData(models_sgd, models_gd)\n",
    "\n",
    "    ax1.set_title(f\"Accuracy SGD\")\n",
    "    sns.heatmap(accuracies_sgd, annot=True, ax=ax1, \n",
    "        cmap=sns.color_palette(\"flare\", as_cmap=True), \n",
    "        vmin=min(np.min(accuracies_sgd), np.min(accuracies_gd)), vmax=max(np.max(accuracies_sgd), np.max(accuracies_gd))\n",
    "    )\n",
    "\n",
    "    ax2.set_title(f\"Accuracy GD\")\n",
    "    sns.heatmap(accuracies_gd, annot=True, ax=ax2, \n",
    "        cmap=sns.color_palette(\"flare\", as_cmap=True), \n",
    "        vmin=min(np.min(accuracies_sgd), np.min(accuracies_gd)), vmax=max(np.max(accuracies_sgd), np.max(accuracies_gd))\n",
    "    )\n",
    "    \n",
    "    ax3.set_title(f\"SGD - GD parameters diff\")\n",
    "    sns.heatmap(param_diffs, annot=True, ax=ax3, cmap=sns.color_palette(\"flare\", as_cmap=True))\n",
    "\n",
    "    plt.show()"
   ]
  },
  {
   "cell_type": "markdown",
   "metadata": {},
   "source": [
    "## Multi-class classification"
   ]
  },
  {
   "cell_type": "markdown",
   "metadata": {},
   "source": [
    "\\begin{equation}\n",
    "    w: N \\times 3\n",
    "\\end{equation}\n",
    "\n",
    "\\begin{split}\n",
    "    MSE&: (N \\times 3) \\rightarrow 1 \\\\\n",
    "    \\nabla MSE&: (N \\times 3) \\rightarrow (N \\times 3)\n",
    "\\end{split}\n",
    "\n",
    "\\begin{split}\n",
    "    \\sigma&: 3 \\rightarrow 3 \\\\\n",
    "    \\nabla\\sigma&: 3 \\rightarrow (3 \\times 3)\n",
    "\\end{split}\n",
    "\n",
    "\\begin{split}\n",
    "    f&: (N \\times 3) \\rightarrow 3 \\\\\n",
    "    \\nabla f&: (N \\times 3) \\rightarrow (3 \\times N \\times 3)\n",
    "\\end{split}"
   ]
  },
  {
   "cell_type": "code",
   "execution_count": 46,
   "metadata": {},
   "outputs": [],
   "source": [
    "def softmax(z):\n",
    "    exp_z = np.exp(z - np.max(z))\n",
    "    return exp_z / np.sum(exp_z)\n",
    "\n",
    "def softmax_grad(z):\n",
    "    # grad_matr = []\n",
    "    # for i in range(z.shape[0]):\n",
    "    #     grad_row = []\n",
    "    #     for j in range(z.shape[0]):\n",
    "    #         delta = 1 if i == j else 0\n",
    "    #         grad_row.append( softmax(z)[i] * (delta - softmax(z)[j]) )\n",
    "    #     grad_matr.append(grad_row)\n",
    "    \n",
    "    # return np.array(grad_matr)\n",
    "\n",
    "    s = softmax(z)\n",
    "    return np.diag(s) - np.outer(s, s)\n",
    "\n",
    "\n",
    "def f_multi(w, x):\n",
    "    return softmax(x.T @ w)\n",
    "\n",
    "def f_multi_grad(w, x):\n",
    "    def __grad(a):\n",
    "        grad = softmax_grad(a.T @ w)\n",
    "        out = np.array([ np.outer(a.T, grad[i, :]) for i in range(grad.shape[0]) ])\n",
    "        return out\n",
    "    \n",
    "    if x.ndim == 1: return __grad(x)\n",
    "    \n",
    "    out = []\n",
    "    for i_data in range(x.shape[1]):\n",
    "        data = x[:, i_data]\n",
    "        out.append(__grad(data))\n",
    "        \n",
    "    return np.array(out)\n",
    " \n",
    "\n",
    "def mse(f, w, D):\n",
    "    X, y = D\n",
    "    N = X.shape[1]\n",
    "    return (1/(2*N)) * (np.linalg.norm(f(w, X) - y, 2)**2)\n",
    "\n",
    "def mse_grad(f, grad_f, w, D):\n",
    "    X, y = D\n",
    "    N = X.shape[1]\n",
    "    grad = grad_f(w, X)\n",
    "    f_x = f(w, X)\n",
    "\n",
    "    out = []\n",
    "    for i in range(N):\n",
    "        grad_i = grad[i]\n",
    "        f_x_i = f_x[i]\n",
    "        y_i = y[i]\n",
    "        out.append((1/N) * grad_i @ (f_x_i - y_i))\n",
    "\n",
    "    return np.mean(np.array(out), axis=0).T\n",
    "\n",
    "\n",
    "def loss_multi(w, X, Y):\n",
    "    return mse(f_multi, w, (X, Y))\n",
    "\n",
    "def grad_loss_multi(w, X, Y):\n",
    "    return mse_grad(f_multi, f_multi_grad, w, (X, Y))"
   ]
  },
  {
   "cell_type": "code",
   "execution_count": 47,
   "metadata": {},
   "outputs": [],
   "source": [
    "def evaluateMulti(w, X_test, Y_test):\n",
    "    correct = 0\n",
    "    N = X_test.shape[1]\n",
    "\n",
    "    for i in range(N):\n",
    "        pred_probs = f_multi(w, X_test[:, i])\n",
    "        \n",
    "        if np.argmax(pred_probs) == np.argmax(Y_test[i]):\n",
    "            correct += 1\n",
    "\n",
    "    return correct, correct / N"
   ]
  },
  {
   "cell_type": "code",
   "execution_count": 48,
   "metadata": {},
   "outputs": [
    {
     "name": "stdout",
     "output_type": "stream",
     "text": [
      "1 | 3536 train -- 1148 test\n",
      "8 | 3078 train -- 985 test\n",
      "9 | 3087 train -- 1101 test\n"
     ]
    }
   ],
   "source": [
    "digits = [1, 8, 9]\n",
    "X_train, Y_train, X, Y = createDataset(full_X, full_Y, digits, classification_type=\"multi\")\n",
    "\n",
    "for digit, train_size, test_size in zip([d for d in digits], np.sum(Y_train, axis=0), np.sum(Y, axis=0)):\n",
    "    print(f\"{digit} | {train_size} train -- {test_size} test\")"
   ]
  },
  {
   "cell_type": "code",
   "execution_count": 49,
   "metadata": {},
   "outputs": [
    {
     "name": "stdout",
     "output_type": "stream",
     "text": [
      "(3067, 0.948361162646877)\n"
     ]
    },
    {
     "data": {
      "image/png": "[encoded data removed]",
      "text/plain": [
       "<Figure size 640x480 with 1 Axes>"
      ]
     },
     "metadata": {},
     "output_type": "display_data"
    },
    {
     "data": {
      "image/png": "[encoded data removed]",
      "text/plain": [
       "<Figure size 640x480 with 1 Axes>"
      ]
     },
     "metadata": {},
     "output_type": "display_data"
    }
   ],
   "source": [
    "history_w, history_loss, history_grad, history_err = sgd(\n",
    "    loss_multi, grad_loss_multi, np.zeros((X_train.shape[0], len(digits))), (X_train, Y_train), 500, 10, 5e-4\n",
    ")\n",
    "# history_w, curr_k, history_loss, history_grad, history_err = gd(\n",
    "#     loss_multi, grad_loss_multi, np.zeros((X_train.shape[0], len(digits))), (X_train, Y_train), 5, 1e-8, 1e-8\n",
    "# )\n",
    "\n",
    "print(evaluateMulti(history_w[-1], X, Y))\n",
    "\n",
    "plt.plot(range(len(history_err)), history_err)\n",
    "plt.title(\"Gradient norm\")\n",
    "plt.show()\n",
    "\n",
    "plt.plot(range(len(history_loss)), history_loss)\n",
    "plt.title(\"Loss\")\n",
    "plt.show()"
   ]
  },
  {
   "cell_type": "markdown",
   "metadata": {},
   "source": [
    "### PCA vs Logistic regression"
   ]
  },
  {
   "cell_type": "code",
   "execution_count": 53,
   "metadata": {},
   "outputs": [],
   "source": [
    "class MNISTLogisticClassifier:\n",
    "    def __init__(self):\n",
    "        self.w = None\n",
    "        self.digits = []\n",
    "\n",
    "    def fit(self, X_train, Y_train, epochs=500, batch_size=10, lr=5e-4):\n",
    "        self.digits = np.unique(Y_train).tolist()\n",
    "        history_w, history_loss, history_grad, history_err = sgd(\n",
    "            loss_multi, grad_loss_multi, np.zeros((X_train.shape[0], len(digits))), (X_train, onehot(Y_train)), epochs, batch_size, lr\n",
    "        )\n",
    "        self.w = history_w[-1]\n",
    "\n",
    "    def predict(self, new_digit):\n",
    "        preds = f_multi(self.w, new_digit)\n",
    "        return self.digits[np.argmax(preds)]"
   ]
  },
  {
   "cell_type": "code",
   "execution_count": 58,
   "metadata": {},
   "outputs": [],
   "source": [
    "def centroid(data):\n",
    "    return np.expand_dims( np.mean(data, axis=1), 1 )\n",
    "\n",
    "class PCA:\n",
    "    def __init__(self):\n",
    "        self.data_centroid = None\n",
    "        self.proj_matrix = None\n",
    "\n",
    "    def fit(self, data, k):\n",
    "        self.data_centroid = centroid(data)\n",
    "        centered_data = data - self.data_centroid\n",
    "\n",
    "        U, _, _ = np.linalg.svd(centered_data, full_matrices=False)\n",
    "        self.proj_matrix = U[:, :k].T\n",
    "\n",
    "    def transform(self, data):\n",
    "        if data.ndim == 1:\n",
    "            data = np.expand_dims(data, axis=1)\n",
    "            \n",
    "        data_centered = data - self.data_centroid\n",
    "        return self.proj_matrix @ data_centered\n",
    "    \n",
    "    def fit_transform(self, data, k):\n",
    "        self.fit(data, k)\n",
    "        return self.transform(data)\n",
    "\n",
    "\n",
    "class MNISTPCAClassifier:\n",
    "    def __init__(self):\n",
    "        self.pca = None\n",
    "        self.Z_k_train = None\n",
    "        self.possible_digits = None\n",
    "        self.digits_centroid = None\n",
    "\n",
    "    def fit(self, X_train, Y_train, k=2):\n",
    "        self.pca = PCA()\n",
    "        self.Z_k_train = self.pca.fit_transform(X_train, k)\n",
    "        self.possible_digits = np.unique(Y_train)\n",
    "        self.digits_centroid = { digit: centroid(self.Z_k_train[:, Y_train == digit]) for digit in self.possible_digits }\n",
    "\n",
    "    def predict(self, new_digit):\n",
    "        Z_k_digit = self.pca.transform(new_digit)\n",
    "        best_distance = +np.inf\n",
    "        best_digit = None\n",
    "\n",
    "        for digit in self.possible_digits:\n",
    "            distance = np.linalg.norm(self.digits_centroid[digit] - Z_k_digit)\n",
    "            if distance < best_distance:\n",
    "                best_distance = distance\n",
    "                best_digit = digit\n",
    "\n",
    "        return best_digit"
   ]
  },
  {
   "cell_type": "code",
   "execution_count": 84,
   "metadata": {},
   "outputs": [
    {
     "name": "stdout",
     "output_type": "stream",
     "text": [
      "PCA                 accuracy: 0.9444099378881987\n",
      "Logistic regression accuracy: 0.987888198757764\n"
     ]
    }
   ],
   "source": [
    "def accuracy(classifier, X, Y):\n",
    "    correct = 0\n",
    "    for i in range(X.shape[1]):\n",
    "        pred = classifier.predict(X[:, i])\n",
    "        if pred == Y[i]: correct += 1\n",
    "    return correct / X.shape[1]\n",
    "\n",
    "def buildDataset(X, Y, digits):\n",
    "    X, Y = filterDigits(X, Y, digits)\n",
    "    return train_test_split(X, Y, int(0.75*X.shape[1]))\n",
    "\n",
    "\n",
    "X_train, Y_train, X_test, Y_test = buildDataset(full_X, full_Y, [0, 1, 8])\n",
    "\n",
    "pca_classifier = MNISTPCAClassifier()\n",
    "pca_classifier.fit(X_train, Y_train, k=10)\n",
    "print(f\"PCA                 accuracy: {accuracy(pca_classifier, X_test, Y_test)}\")\n",
    "\n",
    "logistic_classifier = MNISTLogisticClassifier()\n",
    "logistic_classifier.fit(X_train, Y_train, epochs=20)\n",
    "print(f\"Logistic regression accuracy: {accuracy(logistic_classifier, X_test, Y_test)}\")"
   ]
  },
  {
   "cell_type": "code",
   "execution_count": 107,
   "metadata": {},
   "outputs": [
    {
     "name": "stdout",
     "output_type": "stream",
     "text": [
      "|     Digits      |         PCA acc.          |       Logistic acc.       |    Best    |\n",
      "|    [0, 1, 2]    |          0.9381           |          0.9858           |  Logistic  |\n",
      "|    [0, 1, 3]    |          0.9526           |          0.9875           |  Logistic  |\n",
      "|    [0, 1, 4]    |          0.9699           |          0.9947           |  Logistic  |\n",
      "|    [0, 1, 5]    |          0.9210           |          0.9870           |  Logistic  |\n",
      "|    [0, 1, 6]    |          0.9500           |          0.9926           |  Logistic  |\n",
      "|    [0, 1, 7]    |          0.9616           |          0.9946           |  Logistic  |\n",
      "|    [0, 1, 8]    |          0.9388           |          0.9826           |  Logistic  |\n",
      "|    [0, 1, 9]    |          0.9677           |          0.9911           |  Logistic  |\n",
      "|    [0, 2, 3]    |          0.9182           |          0.9709           |  Logistic  |\n",
      "|    [0, 2, 4]    |          0.9451           |          0.9861           |  Logistic  |\n",
      "|    [0, 2, 5]    |          0.9227           |          0.9683           |  Logistic  |\n",
      "|    [0, 2, 6]    |          0.9126           |          0.9759           |  Logistic  |\n",
      "|    [0, 2, 7]    |          0.9405           |          0.9802           |  Logistic  |\n",
      "|    [0, 2, 8]    |          0.9214           |          0.9722           |  Logistic  |\n",
      "|    [0, 2, 9]    |          0.9389           |          0.9837           |  Logistic  |\n",
      "|    [0, 3, 4]    |          0.9586           |          0.9927           |  Logistic  |\n",
      "|    [0, 3, 5]    |          0.8518           |          0.9541           |  Logistic  |\n",
      "|    [0, 3, 6]    |          0.9461           |          0.9873           |  Logistic  |\n",
      "|    [0, 3, 7]    |          0.9506           |          0.9851           |  Logistic  |\n",
      "|    [0, 3, 8]    |          0.8830           |          0.9719           |  Logistic  |\n",
      "|    [0, 3, 9]    |          0.9353           |          0.9760           |  Logistic  |\n",
      "|    [0, 4, 5]    |          0.9160           |          0.9763           |  Logistic  |\n",
      "|    [0, 4, 6]    |          0.9417           |          0.9841           |  Logistic  |\n",
      "|    [0, 4, 7]    |          0.9556           |          0.9895           |  Logistic  |\n",
      "|    [0, 4, 8]    |          0.9433           |          0.9873           |  Logistic  |\n",
      "|    [0, 4, 9]    |          0.8754           |          0.9706           |  Logistic  |\n",
      "|    [0, 5, 6]    |          0.9058           |          0.9708           |  Logistic  |\n",
      "|    [0, 5, 7]    |          0.9260           |          0.9818           |  Logistic  |\n",
      "|    [0, 5, 8]    |          0.8946           |          0.9573           |  Logistic  |\n",
      "|    [0, 5, 9]    |          0.9178           |          0.9766           |  Logistic  |\n",
      "|    [0, 6, 7]    |          0.9555           |          0.9890           |  Logistic  |\n",
      "|    [0, 6, 8]    |          0.9455           |          0.9903           |  Logistic  |\n",
      "|    [0, 6, 9]    |          0.9496           |          0.9859           |  Logistic  |\n",
      "|    [0, 7, 8]    |          0.9451           |          0.9844           |  Logistic  |\n",
      "|    [0, 7, 9]    |          0.9110           |          0.9664           |  Logistic  |\n",
      "|    [0, 8, 9]    |          0.9283           |          0.9748           |  Logistic  |\n",
      "|    [1, 2, 3]    |          0.9149           |          0.9731           |  Logistic  |\n",
      "|    [1, 2, 4]    |          0.9332           |          0.9858           |  Logistic  |\n",
      "|    [1, 2, 5]    |          0.9128           |          0.9757           |  Logistic  |\n",
      "|    [1, 2, 6]    |          0.9225           |          0.9837           |  Logistic  |\n",
      "|    [1, 2, 7]    |          0.9204           |          0.9786           |  Logistic  |\n",
      "|    [1, 2, 8]    |          0.9071           |          0.9703           |  Logistic  |\n",
      "|    [1, 2, 9]    |          0.9353           |          0.9816           |  Logistic  |\n",
      "|    [1, 3, 4]    |          0.9551           |          0.9857           |  Logistic  |\n",
      "|    [1, 3, 5]    |          0.8610           |          0.6736           |    PCA     |\n",
      "|    [1, 3, 6]    |          0.9496           |          0.9927           |  Logistic  |\n",
      "|    [1, 3, 7]    |          0.9482           |          0.9884           |  Logistic  |\n",
      "|    [1, 3, 8]    |          0.8821           |          0.9643           |  Logistic  |\n",
      "|    [1, 3, 9]    |          0.9398           |          0.9834           |  Logistic  |\n",
      "|    [1, 4, 5]    |          0.9388           |          0.9876           |  Logistic  |\n",
      "|    [1, 4, 6]    |          0.9529           |          0.9879           |  Logistic  |\n",
      "|    [1, 4, 7]    |          0.9495           |          0.9924           |  Logistic  |\n",
      "|    [1, 4, 8]    |          0.9388           |          0.9838           |  Logistic  |\n",
      "|    [1, 4, 9]    |          0.8569           |          0.9706           |  Logistic  |\n",
      "|    [1, 5, 6]    |          0.9274           |          0.9800           |  Logistic  |\n",
      "|    [1, 5, 7]    |          0.9273           |          0.9879           |  Logistic  |\n",
      "|    [1, 5, 8]    |          0.9011           |          0.9617           |  Logistic  |\n",
      "|    [1, 5, 9]    |          0.9242           |          0.9823           |  Logistic  |\n",
      "|    [1, 6, 7]    |          0.9510           |          0.9955           |  Logistic  |\n",
      "|    [1, 6, 8]    |          0.9364           |          0.9820           |  Logistic  |\n",
      "|    [1, 6, 9]    |          0.9610           |          0.9957           |  Logistic  |\n",
      "|    [1, 7, 8]    |          0.9325           |          0.9775           |  Logistic  |\n",
      "|    [1, 7, 9]    |          0.9099           |          0.9657           |  Logistic  |\n",
      "|    [1, 8, 9]    |          0.9224           |          0.9750           |  Logistic  |\n",
      "|    [2, 3, 4]    |          0.9270           |          0.9663           |  Logistic  |\n",
      "|    [2, 3, 5]    |          0.8494           |          0.9396           |  Logistic  |\n",
      "|    [2, 3, 6]    |          0.8961           |          0.9684           |  Logistic  |\n",
      "|    [2, 3, 7]    |          0.9125           |          0.9635           |  Logistic  |\n",
      "|    [2, 3, 8]    |          0.8609           |          0.9466           |  Logistic  |\n",
      "|    [2, 3, 9]    |          0.9075           |          0.9572           |  Logistic  |\n",
      "|    [2, 4, 5]    |          0.9220           |          0.9744           |  Logistic  |\n",
      "|    [2, 4, 6]    |          0.9290           |          0.9835           |  Logistic  |\n",
      "|    [2, 4, 7]    |          0.9377           |          0.9753           |  Logistic  |\n",
      "|    [2, 4, 8]    |          0.9308           |          0.9740           |  Logistic  |\n",
      "|    [2, 4, 9]    |          0.8412           |          0.9605           |  Logistic  |\n",
      "|    [2, 5, 6]    |          0.9046           |          0.9627           |  Logistic  |\n",
      "|    [2, 5, 7]    |          0.9389           |          0.9722           |  Logistic  |\n",
      "|    [2, 5, 8]    |          0.8873           |          0.9455           |  Logistic  |\n",
      "|    [2, 5, 9]    |          0.9247           |          0.9674           |  Logistic  |\n",
      "|    [2, 6, 7]    |          0.9371           |          0.9805           |  Logistic  |\n",
      "|    [2, 6, 8]    |          0.9163           |          0.6582           |    PCA     |\n",
      "|    [2, 6, 9]    |          0.9411           |          0.9837           |  Logistic  |\n",
      "|    [2, 7, 8]    |          0.9257           |          0.9646           |  Logistic  |\n",
      "|    [2, 7, 9]    |          0.9048           |          0.9514           |  Logistic  |\n",
      "|    [2, 8, 9]    |          0.9079           |          0.3479           |    PCA     |\n",
      "|    [3, 4, 5]    |          0.8602           |          0.3781           |    PCA     |\n",
      "|    [3, 4, 6]    |          0.9554           |          0.9857           |  Logistic  |\n",
      "|    [3, 4, 7]    |          0.9467           |          0.9810           |  Logistic  |\n",
      "|    [3, 4, 8]    |          0.8924           |          0.9702           |  Logistic  |\n",
      "|    [3, 4, 9]    |          0.8668           |          0.9635           |  Logistic  |\n",
      "|    [3, 5, 6]    |          0.8541           |          0.9521           |  Logistic  |\n",
      "|    [3, 5, 7]    |          0.8728           |          0.9573           |  Logistic  |\n",
      "|    [3, 5, 8]    |          0.8084           |          0.9201           |  Logistic  |\n",
      "|    [3, 5, 9]    |          0.8606           |          0.9475           |  Logistic  |\n",
      "|    [3, 6, 7]    |          0.9581           |          0.9851           |  Logistic  |\n",
      "|    [3, 6, 8]    |          0.9009           |          0.9649           |  Logistic  |\n",
      "|    [3, 6, 9]    |          0.9429           |          0.9861           |  Logistic  |\n",
      "|    [3, 7, 8]    |          0.8861           |          0.9700           |  Logistic  |\n",
      "|    [3, 7, 9]    |          0.9032           |          0.9586           |  Logistic  |\n",
      "|    [3, 8, 9]    |          0.8854           |          0.9616           |  Logistic  |\n",
      "|    [4, 5, 6]    |          0.9167           |          0.9670           |  Logistic  |\n",
      "|    [4, 5, 7]    |          0.9302           |          0.9798           |  Logistic  |\n",
      "|    [4, 5, 8]    |          0.9051           |          0.9581           |  Logistic  |\n",
      "|    [4, 5, 9]    |          0.8474           |          0.9555           |  Logistic  |\n",
      "|    [4, 6, 7]    |          0.9496           |          0.9848           |  Logistic  |\n",
      "|    [4, 6, 8]    |          0.9439           |          0.9821           |  Logistic  |\n",
      "|    [4, 6, 9]    |          0.8726           |          0.9639           |  Logistic  |\n",
      "|    [4, 7, 8]    |          0.9445           |          0.9815           |  Logistic  |\n",
      "|    [4, 7, 9]    |          0.8316           |          0.9479           |  Logistic  |\n",
      "|    [4, 8, 9]    |          0.8455           |          0.9562           |  Logistic  |\n",
      "|    [5, 6, 7]    |          0.9407           |          0.9835           |  Logistic  |\n",
      "|    [5, 6, 8]    |          0.9060           |          0.9550           |  Logistic  |\n",
      "|    [5, 6, 9]    |          0.9455           |          0.9759           |  Logistic  |\n",
      "|    [5, 7, 8]    |          0.9165           |          0.9615           |  Logistic  |\n",
      "|    [5, 7, 9]    |          0.9015           |          0.9577           |  Logistic  |\n",
      "|    [5, 8, 9]    |          0.9001           |          0.9406           |  Logistic  |\n",
      "|    [6, 7, 8]    |          0.9524           |          0.9857           |  Logistic  |\n",
      "|    [6, 7, 9]    |          0.9277           |          0.7700           |    PCA     |\n",
      "|    [6, 8, 9]    |          0.9370           |          0.9797           |  Logistic  |\n",
      "|    [7, 8, 9]    |          0.8928           |          0.9447           |  Logistic  |\n"
     ]
    }
   ],
   "source": [
    "pca_accuracies = {}\n",
    "logistic_accuracies = {}\n",
    "\n",
    "print(f\"| {'Digits':^15} | {'PCA acc.':^25} | {'Logistic acc.':^25} | {'Best':^10} |\")\n",
    "\n",
    "for i in range(0, 10):\n",
    "    for j in range(0, 10):\n",
    "        for k in range(0, 10):\n",
    "            if (len(set([i, j, k])) != 3) or (tuple(sorted([i, j, k])) in pca_accuracies): continue\n",
    "\n",
    "            digits = tuple(sorted([i, j, k]))\n",
    "            X_train, Y_train, X_test, Y_test = buildDataset(full_X, full_Y, digits)\n",
    "            \n",
    "            pca_classifier = MNISTPCAClassifier()\n",
    "            pca_classifier.fit(X_train, Y_train, k=10)\n",
    "            pca_accuracies[digits] = accuracy(pca_classifier, X_test, Y_test)\n",
    "\n",
    "            logistic_classifier = MNISTLogisticClassifier()\n",
    "            logistic_classifier.fit(X_train, Y_train, epochs=20)\n",
    "            logistic_accuracies[digits] = accuracy(logistic_classifier, X_test, Y_test)\n",
    "\n",
    "            if pca_accuracies[digits] > logistic_accuracies[digits]:\n",
    "                best = \"PCA\" \n",
    "            elif logistic_accuracies[digits] > pca_accuracies[digits]:\n",
    "                best = \"Logistic\"\n",
    "            else: best = \"---\"\n",
    "            print(f\"| {str(sorted([i, j, k])):^15} | {pca_accuracies[digits]:^25.4f} | {logistic_accuracies[digits]:^25.4f} | {best:^10} |\")"
   ]
  }
 ],
 "metadata": {
  "kernelspec": {
   "display_name": "smm",
   "language": "python",
   "name": "python3"
  },
  "language_info": {
   "codemirror_mode": {
    "name": "ipython",
    "version": 3
   },
   "file_extension": ".py",
   "mimetype": "text/x-python",
   "name": "python",
   "nbconvert_exporter": "python",
   "pygments_lexer": "ipython3",
   "version": "3.11.5"
  }
 },
 "nbformat": 4,
 "nbformat_minor": 2
}
