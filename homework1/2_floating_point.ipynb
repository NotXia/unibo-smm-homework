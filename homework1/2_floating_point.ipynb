{
 "cells": [
  {
   "cell_type": "markdown",
   "metadata": {},
   "source": [
    "# Floating Point Arithmetic"
   ]
  },
  {
   "cell_type": "markdown",
   "metadata": {},
   "source": [
    "## Exercise 1"
   ]
  },
  {
   "cell_type": "code",
   "execution_count": 32,
   "metadata": {},
   "outputs": [
    {
     "name": "stdout",
     "output_type": "stream",
     "text": [
      "2.220446049250313e-16\n"
     ]
    }
   ],
   "source": [
    "import sys\n",
    "print(sys.float_info.epsilon)"
   ]
  },
  {
   "cell_type": "code",
   "execution_count": 33,
   "metadata": {},
   "outputs": [
    {
     "name": "stdout",
     "output_type": "stream",
     "text": [
      "eps: 2.220446049250313e-16\n"
     ]
    }
   ],
   "source": [
    "curr_eps = 2e0 # Smallest possible mantissa and exponent\n",
    "prev_eps = 2e0\n",
    "           \n",
    "while (1 + curr_eps) > 1:\n",
    "    prev_eps = curr_eps\n",
    "    curr_eps /= 2 # Left shifts exponent\n",
    "eps = prev_eps\n",
    "\n",
    "print(f\"eps: {eps}\")"
   ]
  },
  {
   "cell_type": "code",
   "execution_count": 34,
   "metadata": {},
   "outputs": [
    {
     "name": "stdout",
     "output_type": "stream",
     "text": [
      "1.0000000000000002\n",
      "1.0\n"
     ]
    }
   ],
   "source": [
    "print(1 + eps)\n",
    "print(1 + eps/2)"
   ]
  },
  {
   "cell_type": "markdown",
   "metadata": {},
   "source": [
    "## Exercise 2"
   ]
  },
  {
   "cell_type": "code",
   "execution_count": 35,
   "metadata": {},
   "outputs": [],
   "source": [
    "import math\n",
    "import numpy as np"
   ]
  },
  {
   "cell_type": "code",
   "execution_count": 36,
   "metadata": {},
   "outputs": [],
   "source": [
    "def euler(n):\n",
    "    return (1 + (1/n))**n"
   ]
  },
  {
   "cell_type": "code",
   "execution_count": 37,
   "metadata": {},
   "outputs": [
    {
     "name": "stdout",
     "output_type": "stream",
     "text": [
      "Real e: 2.718281828459045\n",
      "n=10: 2.5937424601000023\n",
      "n=20: 2.653297705144422\n",
      "n=30: 2.6743187758703026\n",
      "n=40: 2.685063838389963\n",
      "n=50: 2.691588029073608\n",
      "n=60: 2.6959701393302162\n",
      "n=70: 2.6991163709761854\n",
      "n=80: 2.7014849407533275\n",
      "n=90: 2.703332461058186\n",
      "n=100: 2.7048138294215285\n"
     ]
    }
   ],
   "source": [
    "print(f\"Real e: {math.e}\")\n",
    "\n",
    "for i in range(10, 101, 10):\n",
    "    print(f\"n={i}: {euler(i)}\")"
   ]
  },
  {
   "cell_type": "code",
   "execution_count": 38,
   "metadata": {},
   "outputs": [
    {
     "name": "stdout",
     "output_type": "stream",
     "text": [
      "  Real e: 2.718281828459045\n",
      " float64: 1.0\n",
      "float128: 2.717288214505591\n"
     ]
    }
   ],
   "source": [
    "print(f\"  Real e: {math.e}\")\n",
    "print(f\" float64: {euler(1e16)}\") # Cancellation problem\n",
    "print(f\"float128: {euler(np.float128(1e16))}\")"
   ]
  },
  {
   "cell_type": "markdown",
   "metadata": {},
   "source": [
    "## Exercise 3"
   ]
  },
  {
   "cell_type": "markdown",
   "metadata": {},
   "source": [
    "Eigenvalues of full rank matrixes are all non-zero."
   ]
  },
  {
   "cell_type": "code",
   "execution_count": 39,
   "metadata": {},
   "outputs": [],
   "source": [
    "import numpy as np"
   ]
  },
  {
   "cell_type": "code",
   "execution_count": 40,
   "metadata": {},
   "outputs": [],
   "source": [
    "def printRankAndEigenvalues(matrix, label=\"\"):\n",
    "    rank = np.linalg.matrix_rank(matrix)\n",
    "    eigenvalues, _ = np.linalg.eig(matrix)\n",
    "    print(f\"{label} -- rank: {rank} | : {eigenvalues}\")"
   ]
  },
  {
   "cell_type": "code",
   "execution_count": 41,
   "metadata": {},
   "outputs": [
    {
     "name": "stdout",
     "output_type": "stream",
     "text": [
      "A -- rank: 2 | : [5. 2.]\n",
      "B -- rank: 1 | : [5. 0.]\n"
     ]
    }
   ],
   "source": [
    "A = np.array([ \n",
    "    [4, 2], \n",
    "    [1, 3] \n",
    "])\n",
    "B = np.array([ \n",
    "    [4, 2], \n",
    "    [2, 1] \n",
    "])\n",
    "\n",
    "printRankAndEigenvalues(A, label=\"A\") # is full rank\n",
    "printRankAndEigenvalues(B, label=\"B\")"
   ]
  },
  {
   "cell_type": "code",
   "execution_count": 42,
   "metadata": {},
   "outputs": [
    {
     "name": "stdout",
     "output_type": "stream",
     "text": [
      "A -- rank: 2 | : [1. 3.]\n",
      "B -- rank: 1 | : [1. 0.]\n",
      "C -- rank: 0 | : [0. 0.]\n"
     ]
    }
   ],
   "source": [
    "# Rank 2\n",
    "A = np.array([ \n",
    "    [1, 2], \n",
    "    [0, 3] \n",
    "])\n",
    "printRankAndEigenvalues(A, label=\"A\")\n",
    "\n",
    "# Rank 1\n",
    "B = np.array([ \n",
    "    [1, 2], \n",
    "    [0, 0] \n",
    "])\n",
    "printRankAndEigenvalues(B, label=\"B\")\n",
    "\n",
    "# Rank 0\n",
    "C = np.array([ \n",
    "    [0, 0], \n",
    "    [0, 0] \n",
    "])\n",
    "printRankAndEigenvalues(C, label=\"C\")"
   ]
  },
  {
   "cell_type": "code",
   "execution_count": 43,
   "metadata": {},
   "outputs": [
    {
     "name": "stdout",
     "output_type": "stream",
     "text": [
      "A -- rank: 3 | : [1. 4. 6.]\n",
      "B -- rank: 2 | : [1. 4. 0.]\n",
      "C -- rank: 1 | : [1. 0. 0.]\n",
      "D -- rank: 1 | : [0. 0. 1.]\n",
      "E -- rank: 1 | : [0. 0. 0.]\n",
      "F -- rank: 0 | : [0. 0. 0.]\n"
     ]
    }
   ],
   "source": [
    "# Rank 3\n",
    "A = np.array([ \n",
    "    [1, 2, 3], \n",
    "    [0, 4, 5], \n",
    "    [0, 0, 6] \n",
    "])\n",
    "printRankAndEigenvalues(A, label=\"A\")\n",
    "\n",
    "# Rank 2\n",
    "B = np.array([ \n",
    "    [1, 2, 3], \n",
    "    [0, 4, 5], \n",
    "    [0, 0, 0] \n",
    "])\n",
    "printRankAndEigenvalues(B, label=\"B\")\n",
    "\n",
    "# Rank 1\n",
    "C = np.array([ \n",
    "    [1, 2, 3], \n",
    "    [0, 0, 0], \n",
    "    [0, 0, 0] \n",
    "])\n",
    "printRankAndEigenvalues(C, label=\"C\")\n",
    "\n",
    "# Rank 1\n",
    "D = np.array([ \n",
    "    [1, 0, 0], \n",
    "    [2, 0, 0], \n",
    "    [3, 0, 0] \n",
    "])\n",
    "printRankAndEigenvalues(D, label=\"D\")\n",
    "\n",
    "# Rank 1\n",
    "E = np.array([ \n",
    "    [0, 0, 1], \n",
    "    [0, 0, 0], \n",
    "    [0, 0, 0] \n",
    "])\n",
    "printRankAndEigenvalues(E, label=\"E\")\n",
    "\n",
    "\n",
    "# Rank 0\n",
    "F = np.array([ \n",
    "    [0, 0, 0], \n",
    "    [0, 0, 0], \n",
    "    [0, 0, 0]\n",
    "])\n",
    "printRankAndEigenvalues(F, label=\"F\")"
   ]
  }
 ],
 "metadata": {
  "kernelspec": {
   "display_name": "smm",
   "language": "python",
   "name": "python3"
  },
  "language_info": {
   "codemirror_mode": {
    "name": "ipython",
    "version": 3
   },
   "file_extension": ".py",
   "mimetype": "text/x-python",
   "name": "python",
   "nbconvert_exporter": "python",
   "pygments_lexer": "ipython3",
   "version": "3.11.5"
  },
  "orig_nbformat": 4
 },
 "nbformat": 4,
 "nbformat_minor": 2
}
