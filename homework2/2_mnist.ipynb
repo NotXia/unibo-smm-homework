{
 "cells": [
  {
   "cell_type": "code",
   "execution_count": 1,
   "metadata": {},
   "outputs": [],
   "source": [
    "import numpy as np\n",
    "import scipy\n",
    "import matplotlib.pyplot as plt\n",
    "import random\n",
    "\n",
    "np.random.seed(42)"
   ]
  },
  {
   "cell_type": "code",
   "execution_count": 2,
   "metadata": {},
   "outputs": [],
   "source": [
    "import math\n",
    "\n",
    "class ImagePlot:\n",
    "    def __init__(self, max_columns=5):\n",
    "        self.reset()\n",
    "        self.max_columns = max_columns\n",
    "\n",
    "    def reset(self):\n",
    "        self.images = []\n",
    "\n",
    "    def add(self, image, title=\"\"):\n",
    "        self.images.append({\n",
    "            \"image\": image,\n",
    "            \"title\": title\n",
    "        })\n",
    "\n",
    "    def show(self):\n",
    "        n_rows = math.ceil(len(self.images) / self.max_columns)\n",
    "        n_cols = self.max_columns\n",
    "\n",
    "        plt.figure(figsize=(25, 7))\n",
    "        for i in range(len(self.images)):\n",
    "            plt.subplot(n_rows, n_cols, i+1)\n",
    "            plt.imshow(self.images[i][\"image\"], cmap=\"gray\")\n",
    "            plt.title(self.images[i][\"title\"])\n",
    "            plt.axis(\"off\")\n",
    "\n",
    "        plt.show()\n",
    "\n",
    "plotter = ImagePlot()"
   ]
  },
  {
   "cell_type": "code",
   "execution_count": 3,
   "metadata": {},
   "outputs": [],
   "source": [
    "data = scipy.io.loadmat(\"./data/MNIST.mat\")\n",
    "X = data[\"X\"]\n",
    "Y = data[\"I\"]"
   ]
  },
  {
   "cell_type": "code",
   "execution_count": 4,
   "metadata": {},
   "outputs": [
    {
     "name": "stdout",
     "output_type": "stream",
     "text": [
      "(256, 1707)\n",
      "(1, 1707)\n"
     ]
    }
   ],
   "source": [
    "print(X.shape)\n",
    "print(Y.shape)"
   ]
  },
  {
   "cell_type": "code",
   "execution_count": 5,
   "metadata": {},
   "outputs": [
    {
     "data": {
      "image/png": "[encoded data removed]",
      "text/plain": [
       "<Figure size 2500x700 with 10 Axes>"
      ]
     },
     "metadata": {},
     "output_type": "display_data"
    }
   ],
   "source": [
    "plotter.reset()\n",
    "\n",
    "for i in [random.randint(0, X.shape[1]) for _ in range(10)]:\n",
    "    plotter.add(X[:, i].reshape((16, 16)))\n",
    "\n",
    "plotter.show()"
   ]
  },
  {
   "cell_type": "code",
   "execution_count": 6,
   "metadata": {},
   "outputs": [],
   "source": [
    "def getImagesOfDigit(digit, X, Y):\n",
    "    return X[:, (Y[0] == digit)]"
   ]
  },
  {
   "cell_type": "code",
   "execution_count": 7,
   "metadata": {},
   "outputs": [
    {
     "data": {
      "image/png": "[encoded data removed]",
      "text/plain": [
       "<Figure size 2500x700 with 2 Axes>"
      ]
     },
     "metadata": {},
     "output_type": "display_data"
    }
   ],
   "source": [
    "c1 = 3\n",
    "c2 = 4\n",
    "X_c1 = getImagesOfDigit(c1, X, Y)\n",
    "X_c2 = getImagesOfDigit(c2, X, Y)\n",
    "\n",
    "plotter.reset()\n",
    "plotter.add(X_c1[:, 0].reshape((16, 16)))\n",
    "plotter.add(X_c2[:, 0].reshape((16, 16)))\n",
    "plotter.show()"
   ]
  },
  {
   "cell_type": "code",
   "execution_count": 8,
   "metadata": {},
   "outputs": [],
   "source": [
    "def split_train_test(X, train_ratio):\n",
    "    train_size = int(train_ratio * X.shape[1])\n",
    "    idxs = np.arange(0, X.shape[1])\n",
    "    np.random.shuffle(idxs)\n",
    "    return X[:, idxs[:train_size]], X[:, idxs[train_size:]]"
   ]
  },
  {
   "cell_type": "code",
   "execution_count": 9,
   "metadata": {},
   "outputs": [
    {
     "name": "stdout",
     "output_type": "stream",
     "text": [
      "X_c1 | train: (256, 104) -- test: (256, 27)\n",
      "X_c2 | train: (256, 97) -- test: (256, 25)\n"
     ]
    }
   ],
   "source": [
    "X_c1_train, X_c1_test = split_train_test(X_c1, 0.8)\n",
    "X_c2_train, X_c2_test = split_train_test(X_c2, 0.8)\n",
    "\n",
    "print(f\"X_c1 | train: {X_c1_train.shape} -- test: {X_c1_test.shape}\")\n",
    "print(f\"X_c2 | train: {X_c2_train.shape} -- test: {X_c2_test.shape}\")"
   ]
  },
  {
   "cell_type": "code",
   "execution_count": 10,
   "metadata": {},
   "outputs": [],
   "source": [
    "class MNISTBinaryClassPredict:\n",
    "    def __init__(self):\n",
    "        self.U1, self.c1 = None, None\n",
    "        self.U2, self.c2 = None, None\n",
    "\n",
    "    def fit(self, train_set_c1, label_c1, train_set_c2, label_c2):\n",
    "        U1, _, _ = np.linalg.svd(train_set_c1, full_matrices=False)\n",
    "        self.U1 = U1\n",
    "        self.c1 = label_c1\n",
    "\n",
    "        U2, _, _ = np.linalg.svd(train_set_c2, full_matrices=False)\n",
    "        self.U2 = U2\n",
    "        self.c2 = label_c2\n",
    "\n",
    "    def predict(self, digit):\n",
    "        y1_proj = self.U1 @ (self.U1.T @ digit)\n",
    "        y2_proj = self.U2 @ (self.U2.T @ digit)\n",
    "\n",
    "        dist1 = np.linalg.norm(digit - y1_proj, 2)\n",
    "        dist2 = np.linalg.norm(digit - y2_proj, 2)\n",
    "\n",
    "        if dist1 < dist2:\n",
    "            return self.c1\n",
    "        else:\n",
    "            return self.c2\n",
    "\n",
    "\n",
    "def evaluate(model, dataset, true_label):\n",
    "    correct = 0\n",
    "    for i in range(dataset.shape[1]):\n",
    "        if model.predict(dataset[:, i]) == true_label:\n",
    "            correct += 1\n",
    "    return correct"
   ]
  },
  {
   "cell_type": "code",
   "execution_count": 21,
   "metadata": {},
   "outputs": [
    {
     "name": "stdout",
     "output_type": "stream",
     "text": [
      "Accuracy (0): 1.000 (0/96 wrong)\n",
      "Accuracy (8): 0.023 (43/44 wrong)\n"
     ]
    }
   ],
   "source": [
    "c1 = 0\n",
    "c2 = 8\n",
    "X_c1 = getImagesOfDigit(c1, X, Y)\n",
    "X_c2 = getImagesOfDigit(c2, X, Y)\n",
    "X_c1_train, X_c1_test = split_train_test(X_c1, 0.7)\n",
    "X_c2_train, X_c2_test = split_train_test(X_c2, 0.7)\n",
    "\n",
    "\n",
    "model = MNISTBinaryClassPredict()\n",
    "model.fit(X_c1_train, c1, X_c2_train, c2)\n",
    "\n",
    "c1_correct = evaluate(model, X_c1_test, c1)\n",
    "c2_correct = evaluate(model, X_c2_test, c2)\n",
    "\n",
    "print(f\"Accuracy ({c1}): {c1_correct / X_c1_test.shape[1]:.3f} ({X_c1_test.shape[1]-c1_correct}/{X_c1_test.shape[1]} wrong)\")\n",
    "print(f\"Accuracy ({c2}): {c2_correct / X_c2_test.shape[1]:.3f} ({X_c2_test.shape[1]-c2_correct}/{X_c2_test.shape[1]} wrong)\")"
   ]
  },
  {
   "cell_type": "code",
   "execution_count": 12,
   "metadata": {},
   "outputs": [],
   "source": [
    "class MNISTMultiClassPredict:\n",
    "    def __init__(self):\n",
    "        self.U_n = {}\n",
    "\n",
    "    def fit(self, digits_train_sets, digits_train_labels):\n",
    "        for dataset, label in zip(digits_train_sets, digits_train_labels):\n",
    "            U, _, _ = np.linalg.svd(dataset, full_matrices=False)\n",
    "            self.U_n[label] = U\n",
    "\n",
    "    def predict(self, digit):\n",
    "        best_dist = +np.inf\n",
    "        prediction = None\n",
    "\n",
    "        for label in self.U_n:\n",
    "            U = self.U_n[label]\n",
    "            proj = U @ (U.T @ digit)\n",
    "\n",
    "            dist = np.linalg.norm(digit - proj, 2)\n",
    "            if dist < best_dist:\n",
    "                best_dist = dist\n",
    "                prediction = label\n",
    "\n",
    "        return prediction"
   ]
  },
  {
   "cell_type": "code",
   "execution_count": 13,
   "metadata": {},
   "outputs": [
    {
     "name": "stdout",
     "output_type": "stream",
     "text": [
      "0 | Accuracy: 1.000 (0/96 wrong)\n",
      "1 | Accuracy: 1.000 (0/76 wrong)\n",
      "2 | Accuracy: 0.246 (46/61 wrong)\n",
      "3 | Accuracy: 0.000 (40/40 wrong)\n",
      "4 | Accuracy: 0.027 (36/37 wrong)\n",
      "5 | Accuracy: 0.000 (27/27 wrong)\n",
      "6 | Accuracy: 0.043 (44/46 wrong)\n",
      "7 | Accuracy: 0.560 (22/50 wrong)\n",
      "8 | Accuracy: 0.000 (44/44 wrong)\n",
      "9 | Accuracy: 0.150 (34/40 wrong)\n"
     ]
    }
   ],
   "source": [
    "to_train_digits = [0, 1, 2, 3, 4, 5, 6, 7, 8, 9]\n",
    "train_sets = []\n",
    "test_sets = []\n",
    "\n",
    "for digit in to_train_digits:\n",
    "    train, test = split_train_test(X[:, (Y[0] == digit)], 0.7)\n",
    "    train_sets.append(train)\n",
    "    test_sets.append(test)\n",
    "\n",
    "model = MNISTMultiClassPredict()\n",
    "model.fit(train_sets, to_train_digits)\n",
    "\n",
    "for label, test_set in zip(to_train_digits, test_sets):\n",
    "    correct = evaluate(model, test_set, label)\n",
    "    print(f\"{label} | Accuracy: {correct / test_set.shape[1]:.3f} ({test_set.shape[1]-correct}/{test_set.shape[1]} wrong)\")"
   ]
  }
 ],
 "metadata": {
  "kernelspec": {
   "display_name": "smm",
   "language": "python",
   "name": "python3"
  },
  "language_info": {
   "codemirror_mode": {
    "name": "ipython",
    "version": 3
   },
   "file_extension": ".py",
   "mimetype": "text/x-python",
   "name": "python",
   "nbconvert_exporter": "python",
   "pygments_lexer": "ipython3",
   "version": "3.11.5"
  },
  "orig_nbformat": 4
 },
 "nbformat": 4,
 "nbformat_minor": 2
}
