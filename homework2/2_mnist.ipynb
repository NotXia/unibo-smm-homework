{
 "cells": [
  {
   "cell_type": "code",
   "execution_count": 1,
   "metadata": {},
   "outputs": [],
   "source": [
    "import numpy as np\n",
    "import scipy\n",
    "import matplotlib.pyplot as plt\n",
    "import random"
   ]
  },
  {
   "cell_type": "code",
   "execution_count": 2,
   "metadata": {},
   "outputs": [],
   "source": [
    "import math\n",
    "\n",
    "class ImagePlot:\n",
    "    def __init__(self, max_columns=5):\n",
    "        self.reset()\n",
    "        self.max_columns = max_columns\n",
    "\n",
    "    def reset(self):\n",
    "        self.images = []\n",
    "\n",
    "    def add(self, image, title=\"\"):\n",
    "        self.images.append({\n",
    "            \"image\": image,\n",
    "            \"title\": title\n",
    "        })\n",
    "\n",
    "    def show(self):\n",
    "        n_rows = math.ceil(len(self.images) / self.max_columns)\n",
    "        n_cols = self.max_columns\n",
    "\n",
    "        plt.figure(figsize=(25, 7))\n",
    "        for i in range(len(self.images)):\n",
    "            plt.subplot(n_rows, n_cols, i+1)\n",
    "            plt.imshow(self.images[i][\"image\"], cmap=\"gray\")\n",
    "            plt.title(self.images[i][\"title\"])\n",
    "            plt.axis(\"off\")\n",
    "\n",
    "        plt.show()\n",
    "\n",
    "plotter = ImagePlot()"
   ]
  },
  {
   "cell_type": "code",
   "execution_count": 3,
   "metadata": {},
   "outputs": [],
   "source": [
    "data = scipy.io.loadmat(\"./data/MNIST.mat\")\n",
    "X = data[\"X\"]\n",
    "Y = data[\"I\"]"
   ]
  },
  {
   "cell_type": "code",
   "execution_count": 4,
   "metadata": {},
   "outputs": [
    {
     "name": "stdout",
     "output_type": "stream",
     "text": [
      "(256, 1707)\n",
      "(1, 1707)\n"
     ]
    }
   ],
   "source": [
    "print(X.shape)\n",
    "print(Y.shape)"
   ]
  },
  {
   "cell_type": "code",
   "execution_count": 5,
   "metadata": {},
   "outputs": [
    {
     "data": {
      "image/png": "[encoded data removed]",
      "text/plain": [
       "<Figure size 2500x700 with 10 Axes>"
      ]
     },
     "metadata": {},
     "output_type": "display_data"
    }
   ],
   "source": [
    "plotter.reset()\n",
    "\n",
    "for i in [random.randint(0, X.shape[1]) for _ in range(10)]:\n",
    "    plotter.add(X[:, i].reshape((16, 16)))\n",
    "\n",
    "plotter.show()"
   ]
  },
  {
   "cell_type": "code",
   "execution_count": 6,
   "metadata": {},
   "outputs": [
    {
     "data": {
      "image/png": "[encoded data removed]",
      "text/plain": [
       "<Figure size 2500x700 with 2 Axes>"
      ]
     },
     "metadata": {},
     "output_type": "display_data"
    }
   ],
   "source": [
    "c1 = 3\n",
    "c2 = 4\n",
    "X_c1 = X[:, (Y[0] == c1)]\n",
    "X_c2 = X[:, (Y[0] == c2)]\n",
    "\n",
    "plotter.reset()\n",
    "plotter.add(X_c1[:, 0].reshape((16, 16)))\n",
    "plotter.add(X_c2[:, 0].reshape((16, 16)))\n",
    "plotter.show()"
   ]
  },
  {
   "cell_type": "code",
   "execution_count": 7,
   "metadata": {},
   "outputs": [
    {
     "name": "stdout",
     "output_type": "stream",
     "text": [
      "X_c1 | train: (256, 104) -- test: (256, 27)\n",
      "X_c2 | train: (256, 97) -- test: (256, 25)\n"
     ]
    }
   ],
   "source": [
    "c1_train_end = int(X_c1.shape[1]*0.8)\n",
    "X_c1_train = X_c1[:, :c1_train_end]\n",
    "X_c1_test = X_c1[:, c1_train_end:]\n",
    "\n",
    "c2_train_end = int(X_c2.shape[1]*0.8)\n",
    "X_c2_train = X_c2[:, :c2_train_end]\n",
    "X_c2_test = X_c2[:, c2_train_end:]\n",
    "\n",
    "print(f\"X_c1 | train: {X_c1_train.shape} -- test: {X_c1_test.shape}\")\n",
    "print(f\"X_c2 | train: {X_c2_train.shape} -- test: {X_c2_test.shape}\")"
   ]
  },
  {
   "cell_type": "code",
   "execution_count": 8,
   "metadata": {},
   "outputs": [],
   "source": [
    "U1, _, _ = np.linalg.svd(X_c1_train, full_matrices=False)\n",
    "U2, _, _ = np.linalg.svd(X_c2_train, full_matrices=False)"
   ]
  },
  {
   "cell_type": "code",
   "execution_count": 9,
   "metadata": {},
   "outputs": [
    {
     "name": "stdout",
     "output_type": "stream",
     "text": [
      "Accuracy: 1.000 (0/27 wrong)\n",
      "Accuracy: 1.000 (0/25 wrong)\n"
     ]
    }
   ],
   "source": [
    "def predict(digit):\n",
    "    y1_proj = U1 @ (U1.T @ digit)\n",
    "    y2_proj = U2 @ (U2.T @ digit)\n",
    "\n",
    "    dist1 = np.linalg.norm(digit - y1_proj, 2)\n",
    "    dist2 = np.linalg.norm(digit - y2_proj, 2)\n",
    "\n",
    "    if dist1 < dist2:\n",
    "        return c1\n",
    "    else:\n",
    "        return c2\n",
    "\n",
    "def evaluate(dataset, true_label):\n",
    "    correct = 0\n",
    "\n",
    "    for i in range(dataset.shape[1]):\n",
    "        if predict(dataset[:, i]) == true_label:\n",
    "            correct += 1\n",
    "\n",
    "    return correct\n",
    "\n",
    "c1_correct = evaluate(X_c1_test, c1)\n",
    "c2_correct = evaluate(X_c2_test, c2)\n",
    "\n",
    "print(f\"Accuracy: {c1_correct / X_c1_test.shape[1]:.3f} ({X_c1_test.shape[1]-c1_correct}/{X_c1_test.shape[1]} wrong)\")\n",
    "print(f\"Accuracy: {c2_correct / X_c2_test.shape[1]:.3f} ({X_c2_test.shape[1]-c2_correct}/{X_c2_test.shape[1]} wrong)\")"
   ]
  },
  {
   "cell_type": "code",
   "execution_count": 10,
   "metadata": {},
   "outputs": [],
   "source": [
    "class MNISTMultiClassPredict:\n",
    "    def __init__(self):\n",
    "        self.U_n = {}\n",
    "\n",
    "    def fit(self, digits_train_set, digits_train_labels):\n",
    "        for dataset, label in zip(digits_train_set, digits_train_labels):\n",
    "            U, _, _ = np.linalg.svd(dataset, full_matrices=False)\n",
    "            self.U_n[label] = U\n",
    "\n",
    "    def predict(self, digit):\n",
    "        best_dist = +np.inf\n",
    "        prediction = None\n",
    "\n",
    "        for label in self.U_n:\n",
    "            U = self.U_n[label]\n",
    "            proj = U @ (U.T @ digit)\n",
    "\n",
    "            dist = np.linalg.norm(digit - proj, 2)\n",
    "            if dist < best_dist:\n",
    "                best_dist = dist\n",
    "                prediction = label\n",
    "\n",
    "        return prediction\n",
    "\n",
    "def evaluate(model, dataset, true_label):\n",
    "    correct = 0\n",
    "    for i in range(dataset.shape[1]):\n",
    "        if model.predict(dataset[:, i]) == true_label:\n",
    "            correct += 1\n",
    "    return correct\n",
    "\n",
    "def generateDataset(digit, train_split=0.8):\n",
    "    data = X[:, (Y[0] == digit)]\n",
    "    train_end = int(data.shape[1] * train_split)\n",
    "    return data[:, :train_end], data[:, train_end:]"
   ]
  },
  {
   "cell_type": "code",
   "execution_count": 11,
   "metadata": {},
   "outputs": [],
   "source": [
    "to_train_digits = [3, 6, 8, 9]\n",
    "train_sets = []\n",
    "test_sets = []\n",
    "\n",
    "for digit in to_train_digits:\n",
    "    train, test = generateDataset(digit)\n",
    "    train_sets.append(train)\n",
    "    test_sets.append(test)\n",
    "\n",
    "\n",
    "model = MNISTMultiClassPredict()\n",
    "model.fit(train_sets, to_train_digits)"
   ]
  },
  {
   "cell_type": "code",
   "execution_count": 12,
   "metadata": {},
   "outputs": [
    {
     "name": "stdout",
     "output_type": "stream",
     "text": [
      "3 | Accuracy: 0.963 (1/27 wrong)\n",
      "6 | Accuracy: 1.000 (0/31 wrong)\n",
      "8 | Accuracy: 0.897 (3/29 wrong)\n",
      "9 | Accuracy: 1.000 (0/27 wrong)\n"
     ]
    }
   ],
   "source": [
    "for label, test_set in zip(to_train_digits, test_sets):\n",
    "    correct = evaluate(model, test_set, label)\n",
    "    print(f\"{label} | Accuracy: {correct / test_set.shape[1]:.3f} ({test_set.shape[1]-correct}/{test_set.shape[1]} wrong)\")"
   ]
  }
 ],
 "metadata": {
  "kernelspec": {
   "display_name": "smm",
   "language": "python",
   "name": "python3"
  },
  "language_info": {
   "codemirror_mode": {
    "name": "ipython",
    "version": 3
   },
   "file_extension": ".py",
   "mimetype": "text/x-python",
   "name": "python",
   "nbconvert_exporter": "python",
   "pygments_lexer": "ipython3",
   "version": "3.11.5"
  },
  "orig_nbformat": 4
 },
 "nbformat": 4,
 "nbformat_minor": 2
}
